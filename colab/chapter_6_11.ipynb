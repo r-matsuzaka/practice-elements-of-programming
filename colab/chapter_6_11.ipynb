{
  "nbformat": 4,
  "nbformat_minor": 0,
  "metadata": {
    "colab": {
      "name": "chapter_6_11.ipynb",
      "provenance": [],
      "collapsed_sections": [],
      "authorship_tag": "ABX9TyNn06RNS9e9lsppl0ZRA39v",
      "include_colab_link": true
    },
    "kernelspec": {
      "name": "python3",
      "display_name": "Python 3"
    },
    "language_info": {
      "name": "python"
    }
  },
  "cells": [
    {
      "cell_type": "markdown",
      "metadata": {
        "id": "view-in-github",
        "colab_type": "text"
      },
      "source": [
        "<a href=\"https://colab.research.google.com/github/r-matsuzaka/practice-elements-of-programming/blob/main/colab/chapter_6_11.ipynb\" target=\"_parent\"><img src=\"https://colab.research.google.com/assets/colab-badge.svg\" alt=\"Open In Colab\"/></a>"
      ]
    },
    {
      "cell_type": "markdown",
      "source": [
        "# Chapter6 Binary Trees\n",
        "# Chapter11 Binary Search Trees"
      ],
      "metadata": {
        "id": "ebp-5aZ-5vN7"
      }
    },
    {
      "cell_type": "code",
      "source": [
        "%%capture\n",
        "!pip install yapf"
      ],
      "metadata": {
        "id": "3DknEZsr6tG5"
      },
      "execution_count": 1,
      "outputs": []
    },
    {
      "cell_type": "code",
      "source": [
        "from IPython.core.magic import register_cell_magic\n",
        "from yapf.yapflib.yapf_api import FormatCode\n",
        "\n",
        "\n",
        "@register_cell_magic\n",
        "def fmt(line, cell):\n",
        "   \"\"\"\n",
        "   My formatter cell magic comannd.\n",
        "   Please install yapf before using this magic command.\n",
        "   \"\"\"\n",
        "   print(FormatCode(cell, style_config='pep8')[0])"
      ],
      "metadata": {
        "id": "9R-0b7qJ7-xX"
      },
      "execution_count": 2,
      "outputs": []
    },
    {
      "cell_type": "code",
      "source": [
        "# %%fmt\n",
        "class BinaryTreeNode:\n",
        "    def __init__(self, data=None, left=None, right=None):\n",
        "        self.data = data\n",
        "        self.left = left\n",
        "        self.right = right\n",
        " \n",
        "def tree_traversal(root):\n",
        "  \"\"\"\n",
        "  traverse binary tree node\n",
        "  - Preorder(先行順 / 行きがけ順) Processes the root before the traversals of left and right children.\n",
        "  - Inorder(中間順 / 通りがけ順) Processes the root after the traversal of left child and before the traversal of right child.\n",
        "  - Postorder(帰りがけ順 / 後行順) Processes the root after the traversals of left and right children.\n",
        "  \"\"\"\n",
        "\n",
        "  if root:\n",
        "      # insert some codes for preorder searching\n",
        "      print(f'Preorder: %d' % root.data)\n",
        "      tree_traversal(root.left)\n",
        "\n",
        "      # insert some codes for inorder searching\n",
        "      print('Inorder: %d' % root.data)\n",
        "\n",
        "      tree_traversal(root.right)\n",
        "      # insert some codes for postorder searching\n",
        "      print('Postorder: %d' % root.data)"
      ],
      "metadata": {
        "id": "saEhNeC-5x3z"
      },
      "execution_count": 3,
      "outputs": []
    },
    {
      "cell_type": "code",
      "source": [
        "import collections\n",
        "def is_balanced_binary_tree(tree):\n",
        "  BalancedStatusWithHeight = collections.namedtuple(\n",
        "      'BalancedStatusWithHeight', ('balanced', 'height')\n",
        "  )\n",
        "\n",
        "  def check_balanced(tree):\n",
        "    if not tree:\n",
        "      return BalancedStatusWithHeight(True, -1) # Base case.\n",
        "\n",
        "    left_result = check_balanced(tree.left)\n",
        "    if not left_result.balanced:\n",
        "      return BalancedStatusWithHeight(False, 0)\n",
        "\n",
        "    right_result = check_balanced(tree.right)\n",
        "    if not right_result.balanced:\n",
        "      return BalancedStatusWithHeight(False, 0)\n",
        "    \n",
        "    is_balanced = abs(left_result.height - right_result.height) <= 1\n",
        "    height = max(left_result.height, right_result.height) + 1\n",
        "    return BalancedStatusWithHeight(is_balanced, height)"
      ],
      "metadata": {
        "id": "R9p00Ug_-YRB"
      },
      "execution_count": 4,
      "outputs": []
    },
    {
      "cell_type": "code",
      "source": [
        "%%capture\n",
        "# create binary tree\n",
        "root1 = BinaryTreeNode(1)\n",
        "\"\"\" \n",
        "following is the tree after above statement\n",
        "        1\n",
        "      /    ＼\n",
        "     None  None\n",
        "\"\"\"\n",
        " \n",
        "root1.left      = BinaryTreeNode(2)\n",
        "root1.right     = BinaryTreeNode(3)\n",
        "   \n",
        "\"\"\"\n",
        " 2 and 3 become left and right children of 1\n",
        "           1\n",
        "         /   ＼\n",
        "        2      3\n",
        "     /   ＼   /  ＼\n",
        "   None None None None\n",
        "\"\"\"\n",
        "\n",
        "root1.left.left = BinaryTreeNode(4)\n",
        "\"\"\"\n",
        "4 becomes left child of 2\n",
        "           1\n",
        "       /      ＼\n",
        "      2          3\n",
        "    /   ＼      /  ＼\n",
        "   4    None  None  None\n",
        "  /  ＼\n",
        "None None\n",
        "\"\"\""
      ],
      "metadata": {
        "id": "ivlNykwrBaUy"
      },
      "execution_count": 5,
      "outputs": []
    },
    {
      "cell_type": "code",
      "source": [
        "tree_traversal(root1)"
      ],
      "metadata": {
        "colab": {
          "base_uri": "https://localhost:8080/"
        },
        "id": "xqJE3FCvS8qY",
        "outputId": "3f5c9094-1809-47f6-aeb3-0c79b1aeed47"
      },
      "execution_count": 6,
      "outputs": [
        {
          "output_type": "stream",
          "name": "stdout",
          "text": [
            "Preorder: 1\n",
            "Preorder: 2\n",
            "Preorder: 4\n",
            "Inorder: 4\n",
            "Postorder: 4\n",
            "Inorder: 2\n",
            "Postorder: 2\n",
            "Inorder: 1\n",
            "Preorder: 3\n",
            "Inorder: 3\n",
            "Postorder: 3\n",
            "Postorder: 1\n"
          ]
        }
      ]
    },
    {
      "cell_type": "code",
      "source": [
        "%%capture\n",
        "# create binary tree\n",
        "root2 = BinaryTreeNode(1)\n",
        "\"\"\" \n",
        "following is the tree after above statement\n",
        "        1\n",
        "      /    ＼\n",
        "     None  None\n",
        "\"\"\"\n",
        " \n",
        "root2.left      = BinaryTreeNode(2)\n",
        "root2.right     = BinaryTreeNode(3)\n",
        "   \n",
        "\"\"\"\n",
        " 2 and 3 become left and right children of 1\n",
        "           1\n",
        "         /   ＼\n",
        "        2      3\n",
        "     /   ＼   /  ＼\n",
        "   None None None None\n",
        "\"\"\"\n",
        "\n",
        "root2.left.left = BinaryTreeNode(1)\n",
        "\"\"\"\n",
        "1 becomes left child of 2\n",
        "           1\n",
        "       /      ＼\n",
        "      2          3\n",
        "    /   ＼      /  ＼\n",
        "   1    None  None  None\n",
        "  /  ＼\n",
        "None None\n",
        "\"\"\""
      ],
      "metadata": {
        "id": "Kma0B48HU6L_"
      },
      "execution_count": 7,
      "outputs": []
    },
    {
      "cell_type": "code",
      "source": [
        "%%capture\n",
        "# create binary tree\n",
        "root3 = BinaryTreeNode(3)\n",
        "\"\"\" \n",
        "following is the tree after above statement\n",
        "        3\n",
        "      /    ＼\n",
        "     None  None\n",
        "\"\"\"\n",
        " \n",
        "root3.left      = BinaryTreeNode(2)\n",
        "root3.right     = BinaryTreeNode(4)\n",
        "   \n",
        "\"\"\"\n",
        " 2 and 4 become left and right children of 3\n",
        "           3\n",
        "         /   ＼\n",
        "        2      4\n",
        "     /   ＼   /  ＼\n",
        "   None None None None\n",
        "\"\"\"\n",
        "\n",
        "root3.left.left = BinaryTreeNode(1)\n",
        "\"\"\"\n",
        "1 becomes left child of 2\n",
        "           3\n",
        "       /      ＼\n",
        "      2          4\n",
        "    /   ＼      /  ＼\n",
        "   1    None  None  None\n",
        "  /  ＼\n",
        "None None\n",
        "\"\"\""
      ],
      "metadata": {
        "id": "5-lzgd4vmvVb"
      },
      "execution_count": 8,
      "outputs": []
    },
    {
      "cell_type": "code",
      "source": [
        "%%capture\n",
        "# create binary tree\n",
        "root4 = BinaryTreeNode(2)\n",
        "root4.right = BinaryTreeNode(7)\n",
        "root4.right.left = BinaryTreeNode(1)\n",
        "root4.right.right = BinaryTreeNode(6)\n",
        "\n",
        "\"\"\"\n",
        "1 becomes left child of 2\n",
        "           2\n",
        "       /      ＼\n",
        "     None        7\n",
        "                /  ＼\n",
        "               1     6\n",
        "             /  ＼  /  ＼\n",
        "          None None None None\n",
        "\"\"\""
      ],
      "metadata": {
        "id": "DBVx3oy9r4v5"
      },
      "execution_count": 9,
      "outputs": []
    },
    {
      "cell_type": "code",
      "source": [
        "%%capture\n",
        "# create binary tree\n",
        "root5 = BinaryTreeNode(10)\n",
        "root5.left = BinaryTreeNode(5)\n",
        "root5.right = BinaryTreeNode(18)\n",
        "\n",
        "root5.left.left = BinaryTreeNode(2)\n",
        "root5.left.right = BinaryTreeNode(6)\n",
        "\n",
        "root5.right.left = BinaryTreeNode(12)\n",
        "\n",
        "root5.left.left.left = BinaryTreeNode(1)\n",
        "root5.left.left.right = BinaryTreeNode(4)\n",
        "\n",
        "root5.left.right.right = BinaryTreeNode(7)\n",
        "root5.right.left.left = BinaryTreeNode(11)\n",
        "root5.right.left.right = BinaryTreeNode(17)\n",
        "\n",
        "\"\"\"\n",
        "1 becomes left child of 2\n",
        "          10\n",
        "       /      ＼\n",
        "      5         18\n",
        "    /   ＼      /  ＼\n",
        "   2      6    12    None\n",
        "  /  ＼  / ＼  /＼   /＼\n",
        " 1     4 N  7 11 17  N   N\n",
        "\"\"\""
      ],
      "metadata": {
        "id": "xEEbBHfmpyqH"
      },
      "execution_count": 10,
      "outputs": []
    },
    {
      "cell_type": "code",
      "source": [
        "%%capture\n",
        "# create binary tree\n",
        "root6 = BinaryTreeNode(10)\n",
        "root6.left = BinaryTreeNode(5)\n",
        "root6.right = BinaryTreeNode(18)\n",
        "\n",
        "root6.left.left = BinaryTreeNode(2)\n",
        "root6.left.right = BinaryTreeNode(9)\n",
        "\n",
        "root6.right.left = BinaryTreeNode(15)\n",
        "root6.right.right = BinaryTreeNode(19)\n",
        "\n",
        "root6.left.left.right = BinaryTreeNode(4)\n",
        "root6.left.right.left = BinaryTreeNode(8)\n",
        "\n",
        "root6.right.left.left = BinaryTreeNode(1)\n",
        "\n",
        "\"\"\"\n",
        "1 becomes left child of 2\n",
        "          10\n",
        "       /      ＼\n",
        "      5         18\n",
        "    /   ＼      /  ＼\n",
        "   2      9    15    19\n",
        "  /  ＼  / ＼  /＼   /＼\n",
        " N     4 8   N 1  N  N   N\n",
        "\"\"\""
      ],
      "metadata": {
        "id": "G1dKneBBsGFd"
      },
      "execution_count": 11,
      "outputs": []
    },
    {
      "cell_type": "markdown",
      "source": [
        "**Test case**  \n",
        "\n",
        "Case #1: False  \n",
        "Case #2: False  \n",
        "Case #3: True  \n",
        "Case #4: False  \n",
        "Case #5: True  \n",
        "Case #6: False"
      ],
      "metadata": {
        "id": "Wa4YwvaBDbFc"
      }
    },
    {
      "cell_type": "code",
      "source": [
        "import collections\n",
        "\n",
        "def is_binary_tree_bst(tree):\n",
        "  QueueEntry = collections.namedtuple('QueueEntry',\n",
        "                                      ('node', 'lower', 'upper'))\n",
        "  bfs_queue = collections.deque(\n",
        "      [QueueEntry(tree, float('-inf'), float('inf'))]\n",
        "  )\n",
        "  while bfs_queue:\n",
        "    front = bfs_queue.popleft()\n",
        "    if front.node:\n",
        "      if not front.lower <= front.node.data <= front.upper:\n",
        "        return False\n",
        "      bfs_queue += [\n",
        "                    QueueEntry(front.node.left, front.lower, front.node.data),\n",
        "                    QueueEntry(front.node.right, front.node.data, front.upper)\n",
        "      ]\n",
        "  return True"
      ],
      "metadata": {
        "id": "HjUsHDy6Db3N"
      },
      "execution_count": 12,
      "outputs": []
    },
    {
      "cell_type": "code",
      "source": [
        "trees = [\n",
        "         root1,\n",
        "         root2,\n",
        "         root3,\n",
        "         root4,\n",
        "         root5,\n",
        "         root6\n",
        "]\n",
        "\n",
        "for i,tree in enumerate(trees):\n",
        "  print(f\"Case #{i+1}: {is_binary_tree_bst(tree)}\")"
      ],
      "metadata": {
        "colab": {
          "base_uri": "https://localhost:8080/"
        },
        "id": "dL4ERaf6E4BU",
        "outputId": "b53e934a-4972-446b-9461-43743f3df4ae"
      },
      "execution_count": 13,
      "outputs": [
        {
          "output_type": "stream",
          "name": "stdout",
          "text": [
            "Case #1: False\n",
            "Case #2: False\n",
            "Case #3: True\n",
            "Case #4: False\n",
            "Case #5: True\n",
            "Case #6: False\n"
          ]
        }
      ]
    },
    {
      "cell_type": "markdown",
      "source": [
        "# Reference  \n",
        "- [Binary Tree | Set 1 (Introduction)](https://www.geeksforgeeks.org/binary-tree-set-1-introduction/)\n",
        "- [Check for BST](https://practice.geeksforgeeks.org/problems/check-for-bst/1/?page=1&category[]=Tree&category[]=Searching&sortBy=submissions)"
      ],
      "metadata": {
        "id": "SWxcKZ5rARky"
      }
    }
  ]
}