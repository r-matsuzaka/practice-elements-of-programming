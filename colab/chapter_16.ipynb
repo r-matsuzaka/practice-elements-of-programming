{
  "nbformat": 4,
  "nbformat_minor": 0,
  "metadata": {
    "colab": {
      "name": "chapter_16.ipynb",
      "provenance": [],
      "authorship_tag": "ABX9TyOvPpz4fxOvVjHDSlfLtWG8",
      "include_colab_link": true
    },
    "kernelspec": {
      "name": "python3",
      "display_name": "Python 3"
    },
    "language_info": {
      "name": "python"
    }
  },
  "cells": [
    {
      "cell_type": "markdown",
      "metadata": {
        "id": "view-in-github",
        "colab_type": "text"
      },
      "source": [
        "<a href=\"https://colab.research.google.com/github/r-matsuzaka/practice-elements-of-programming/blob/main/colab/chapter_16.ipynb\" target=\"_parent\"><img src=\"https://colab.research.google.com/assets/colab-badge.svg\" alt=\"Open In Colab\"/></a>"
      ]
    },
    {
      "cell_type": "markdown",
      "source": [
        "# Chapter16 Parallel Computing"
      ],
      "metadata": {
        "id": "Ab7R5sdgqKFD"
      }
    },
    {
      "cell_type": "code",
      "source": [
        "%%capture\n",
        "!pip install yapf\n",
        "\n",
        "from IPython.core.magic import register_cell_magic\n",
        "from yapf.yapflib.yapf_api import FormatCode\n",
        "\n",
        "\n",
        "@register_cell_magic\n",
        "def fmt(line, cell):\n",
        "   \"\"\"\n",
        "   My formatter cell magic comannd.\n",
        "   Please install yapf before using this magic command.\n",
        "   \"\"\"\n",
        "   print(FormatCode(cell, style_config='pep8')[0])"
      ],
      "metadata": {
        "id": "t3X6ZMTpq5nj"
      },
      "execution_count": 1,
      "outputs": []
    },
    {
      "cell_type": "code",
      "source": [
        "# %%fmt\n",
        "from time import sleep, perf_counter\n",
        "from threading import Thread\n",
        "\n",
        "\n",
        "def task():\n",
        "    print('Starting a task...')\n",
        "    sleep(1)\n",
        "    print('done')\n",
        "\n",
        "\n",
        "start_time = perf_counter()\n",
        "\n",
        "# create two new threads\n",
        "t1 = Thread(target=task)\n",
        "t2 = Thread(target=task)\n",
        "\n",
        "# start the threads\n",
        "t1.start()\n",
        "t2.start()\n",
        "\n",
        "# wait for the threads to complete\n",
        "t1.join()\n",
        "t2.join()\n",
        "\n",
        "end_time = perf_counter()\n",
        "\n",
        "print(f'It took {end_time- start_time: 0.2f} second(s) to complete.')"
      ],
      "metadata": {
        "colab": {
          "base_uri": "https://localhost:8080/"
        },
        "id": "MDKtLX3KqMOb",
        "outputId": "7c8cf084-e213-4813-b95c-bb7f5eb7a794"
      },
      "execution_count": 2,
      "outputs": [
        {
          "output_type": "stream",
          "name": "stdout",
          "text": [
            "Starting a task...\n",
            "Starting a task...\n",
            "done\n",
            "done\n",
            "It took  1.00 second(s) to complete.\n"
          ]
        }
      ]
    },
    {
      "cell_type": "code",
      "source": [
        "from time import sleep, perf_counter\n",
        "from threading import Thread\n",
        "\n",
        "\n",
        "def task(id):\n",
        "    print(f'Starting the task {id}...')\n",
        "    sleep(1)\n",
        "    print(f'task {id} done')\n",
        "\n",
        "\n",
        "start_time = perf_counter()\n",
        "\n",
        "# create and start 10 threads\n",
        "threads = []\n",
        "for n in range(1, 10):\n",
        "    t = Thread(target=task, args=(n,))\n",
        "    threads.append(t)\n",
        "    t.start()\n",
        "\n",
        "# wait for the threads to complete\n",
        "for t in threads:\n",
        "    t.join()\n",
        "\n",
        "end_time = perf_counter()\n",
        "\n",
        "print(f'It took {end_time- start_time: 0.2f} second(s) to complete.')"
      ],
      "metadata": {
        "colab": {
          "base_uri": "https://localhost:8080/"
        },
        "id": "tftYI0iuwjEK",
        "outputId": "42caf643-afdf-41c9-e824-f03c61190afd"
      },
      "execution_count": 3,
      "outputs": [
        {
          "output_type": "stream",
          "name": "stdout",
          "text": [
            "Starting the task 1...\n",
            "Starting the task 2...\n",
            "Starting the task 3...\n",
            "Starting the task 4...Starting the task 5...\n",
            "\n",
            "Starting the task 6...\n",
            "Starting the task 7...\n",
            "Starting the task 8...\n",
            "Starting the task 9...\n",
            "task 1 done\n",
            "task 2 done\n",
            "task 3 done\n",
            "task 5 done\n",
            "task 4 done\n",
            "task 6 donetask 7 done\n",
            "\n",
            "task 8 done\n",
            "task 9 done\n",
            "It took  1.01 second(s) to complete.\n"
          ]
        }
      ]
    },
    {
      "cell_type": "code",
      "source": [
        "#%%fmt\n",
        "from concurrent.futures import ThreadPoolExecutor\n",
        "import time\n",
        "import threading\n",
        "\n",
        "from abc import ABC, abstractmethod\n",
        "\n",
        "\n",
        "class AbstractLock(ABC):\n",
        "\n",
        "    def __init__(self, lock):\n",
        "        self.lock = lock\n",
        "\n",
        "    @abstractmethod\n",
        "    def run(self):\n",
        "        pass\n",
        "\n",
        "\n",
        "class Lock1(AbstractLock):\n",
        "\n",
        "    def __init__(self, lock):\n",
        "        super().__init__(lock)\n",
        "\n",
        "    def run(self):\n",
        "        while True:\n",
        "            self.lock.acquire()  # 排他制御開始\n",
        "            print(\"Lock1 : lock acquire\")\n",
        "            time.sleep(1)\n",
        "            print(\"Lock1 : lock release\")\n",
        "            self.lock.release()  # 排他制御解除\n",
        "            time.sleep(1)\n",
        "\n",
        "\n",
        "class Lock2(AbstractLock):\n",
        "\n",
        "    def __init__(self, lock):\n",
        "        super().__init__(lock)\n",
        "\n",
        "    def run(self):\n",
        "        while True:\n",
        "            self.lock.acquire()  # 排他制御開始\n",
        "            print(\"Lock2 : lock acquire\")\n",
        "            time.sleep(1)\n",
        "            print(\"Lock2 : lock release\")\n",
        "            self.lock.release()  # 排他制御解除\n",
        "            time.sleep(1)\n",
        "\n",
        "\n",
        "class LockFactory():\n",
        "\n",
        "    def create_lock(self, name, lock):\n",
        "        targetclass = name.capitalize()\n",
        "\n",
        "        return globals()[targetclass](lock)\n",
        "\n",
        "\n",
        "def main():\n",
        "\n",
        "    th_pool = []\n",
        "    lock = threading.Lock()  # Lockモジュール生成\n",
        "\n",
        "    lock_factory = LockFactory()\n",
        "    lock_names = ['lock1', 'lock2']\n",
        "\n",
        "    for name in lock_names:\n",
        "        lock_obj = lock_factory.create_lock(name, lock)\n",
        "        th_pool.append(lock_obj.run)  # 各スレッドにLockモジュールを引数として渡す\n",
        "\n",
        "    with ThreadPoolExecutor(max_workers=2) as executor:\n",
        "        for th in th_pool:\n",
        "            executor.submit(th)  # スレッド生成\n",
        "\n",
        "\n",
        "main()"
      ],
      "metadata": {
        "colab": {
          "base_uri": "https://localhost:8080/",
          "height": 576
        },
        "id": "CmTEXkaUxKG0",
        "outputId": "932dd34c-da40-488c-9bc0-daf4b0765d7a"
      },
      "execution_count": 4,
      "outputs": [
        {
          "output_type": "stream",
          "name": "stdout",
          "text": [
            "Lock1 : lock acquire\n",
            "Lock1 : lock release\n",
            "Lock2 : lock acquire\n",
            "Lock2 : lock release\n",
            "Lock1 : lock acquire\n",
            "Lock1 : lock release\n",
            "Lock2 : lock acquire\n",
            "Lock2 : lock release\n",
            "Lock1 : lock acquire\n",
            "Lock1 : lock release\n",
            "Lock2 : lock acquire\n"
          ]
        },
        {
          "output_type": "error",
          "ename": "KeyboardInterrupt",
          "evalue": "ignored",
          "traceback": [
            "\u001b[0;31m---------------------------------------------------------------------------\u001b[0m",
            "\u001b[0;31mKeyboardInterrupt\u001b[0m                         Traceback (most recent call last)",
            "\u001b[0;32m<ipython-input-4-992d94e0d282>\u001b[0m in \u001b[0;36m<module>\u001b[0;34m()\u001b[0m\n\u001b[1;32m     72\u001b[0m \u001b[0;34m\u001b[0m\u001b[0m\n\u001b[1;32m     73\u001b[0m \u001b[0;34m\u001b[0m\u001b[0m\n\u001b[0;32m---> 74\u001b[0;31m \u001b[0mmain\u001b[0m\u001b[0;34m(\u001b[0m\u001b[0;34m)\u001b[0m\u001b[0;34m\u001b[0m\u001b[0;34m\u001b[0m\u001b[0m\n\u001b[0m",
            "\u001b[0;32m<ipython-input-4-992d94e0d282>\u001b[0m in \u001b[0;36mmain\u001b[0;34m()\u001b[0m\n\u001b[1;32m     69\u001b[0m     \u001b[0;32mwith\u001b[0m \u001b[0mThreadPoolExecutor\u001b[0m\u001b[0;34m(\u001b[0m\u001b[0mmax_workers\u001b[0m\u001b[0;34m=\u001b[0m\u001b[0;36m2\u001b[0m\u001b[0;34m)\u001b[0m \u001b[0;32mas\u001b[0m \u001b[0mexecutor\u001b[0m\u001b[0;34m:\u001b[0m\u001b[0;34m\u001b[0m\u001b[0;34m\u001b[0m\u001b[0m\n\u001b[1;32m     70\u001b[0m         \u001b[0;32mfor\u001b[0m \u001b[0mth\u001b[0m \u001b[0;32min\u001b[0m \u001b[0mth_pool\u001b[0m\u001b[0;34m:\u001b[0m\u001b[0;34m\u001b[0m\u001b[0;34m\u001b[0m\u001b[0m\n\u001b[0;32m---> 71\u001b[0;31m             \u001b[0mexecutor\u001b[0m\u001b[0;34m.\u001b[0m\u001b[0msubmit\u001b[0m\u001b[0;34m(\u001b[0m\u001b[0mth\u001b[0m\u001b[0;34m)\u001b[0m  \u001b[0;31m# スレッド生成\u001b[0m\u001b[0;34m\u001b[0m\u001b[0;34m\u001b[0m\u001b[0m\n\u001b[0m\u001b[1;32m     72\u001b[0m \u001b[0;34m\u001b[0m\u001b[0m\n\u001b[1;32m     73\u001b[0m \u001b[0;34m\u001b[0m\u001b[0m\n",
            "\u001b[0;32m/usr/lib/python3.7/concurrent/futures/_base.py\u001b[0m in \u001b[0;36m__exit__\u001b[0;34m(self, exc_type, exc_val, exc_tb)\u001b[0m\n\u001b[1;32m    621\u001b[0m \u001b[0;34m\u001b[0m\u001b[0m\n\u001b[1;32m    622\u001b[0m     \u001b[0;32mdef\u001b[0m \u001b[0m__exit__\u001b[0m\u001b[0;34m(\u001b[0m\u001b[0mself\u001b[0m\u001b[0;34m,\u001b[0m \u001b[0mexc_type\u001b[0m\u001b[0;34m,\u001b[0m \u001b[0mexc_val\u001b[0m\u001b[0;34m,\u001b[0m \u001b[0mexc_tb\u001b[0m\u001b[0;34m)\u001b[0m\u001b[0;34m:\u001b[0m\u001b[0;34m\u001b[0m\u001b[0;34m\u001b[0m\u001b[0m\n\u001b[0;32m--> 623\u001b[0;31m         \u001b[0mself\u001b[0m\u001b[0;34m.\u001b[0m\u001b[0mshutdown\u001b[0m\u001b[0;34m(\u001b[0m\u001b[0mwait\u001b[0m\u001b[0;34m=\u001b[0m\u001b[0;32mTrue\u001b[0m\u001b[0;34m)\u001b[0m\u001b[0;34m\u001b[0m\u001b[0;34m\u001b[0m\u001b[0m\n\u001b[0m\u001b[1;32m    624\u001b[0m         \u001b[0;32mreturn\u001b[0m \u001b[0;32mFalse\u001b[0m\u001b[0;34m\u001b[0m\u001b[0;34m\u001b[0m\u001b[0m\n\u001b[1;32m    625\u001b[0m \u001b[0;34m\u001b[0m\u001b[0m\n",
            "\u001b[0;32m/usr/lib/python3.7/concurrent/futures/thread.py\u001b[0m in \u001b[0;36mshutdown\u001b[0;34m(self, wait)\u001b[0m\n\u001b[1;32m    214\u001b[0m         \u001b[0;32mif\u001b[0m \u001b[0mwait\u001b[0m\u001b[0;34m:\u001b[0m\u001b[0;34m\u001b[0m\u001b[0;34m\u001b[0m\u001b[0m\n\u001b[1;32m    215\u001b[0m             \u001b[0;32mfor\u001b[0m \u001b[0mt\u001b[0m \u001b[0;32min\u001b[0m \u001b[0mself\u001b[0m\u001b[0;34m.\u001b[0m\u001b[0m_threads\u001b[0m\u001b[0;34m:\u001b[0m\u001b[0;34m\u001b[0m\u001b[0;34m\u001b[0m\u001b[0m\n\u001b[0;32m--> 216\u001b[0;31m                 \u001b[0mt\u001b[0m\u001b[0;34m.\u001b[0m\u001b[0mjoin\u001b[0m\u001b[0;34m(\u001b[0m\u001b[0;34m)\u001b[0m\u001b[0;34m\u001b[0m\u001b[0;34m\u001b[0m\u001b[0m\n\u001b[0m\u001b[1;32m    217\u001b[0m     \u001b[0mshutdown\u001b[0m\u001b[0;34m.\u001b[0m\u001b[0m__doc__\u001b[0m \u001b[0;34m=\u001b[0m \u001b[0m_base\u001b[0m\u001b[0;34m.\u001b[0m\u001b[0mExecutor\u001b[0m\u001b[0;34m.\u001b[0m\u001b[0mshutdown\u001b[0m\u001b[0;34m.\u001b[0m\u001b[0m__doc__\u001b[0m\u001b[0;34m\u001b[0m\u001b[0;34m\u001b[0m\u001b[0m\n",
            "\u001b[0;32m/usr/lib/python3.7/threading.py\u001b[0m in \u001b[0;36mjoin\u001b[0;34m(self, timeout)\u001b[0m\n\u001b[1;32m   1042\u001b[0m \u001b[0;34m\u001b[0m\u001b[0m\n\u001b[1;32m   1043\u001b[0m         \u001b[0;32mif\u001b[0m \u001b[0mtimeout\u001b[0m \u001b[0;32mis\u001b[0m \u001b[0;32mNone\u001b[0m\u001b[0;34m:\u001b[0m\u001b[0;34m\u001b[0m\u001b[0;34m\u001b[0m\u001b[0m\n\u001b[0;32m-> 1044\u001b[0;31m             \u001b[0mself\u001b[0m\u001b[0;34m.\u001b[0m\u001b[0m_wait_for_tstate_lock\u001b[0m\u001b[0;34m(\u001b[0m\u001b[0;34m)\u001b[0m\u001b[0;34m\u001b[0m\u001b[0;34m\u001b[0m\u001b[0m\n\u001b[0m\u001b[1;32m   1045\u001b[0m         \u001b[0;32melse\u001b[0m\u001b[0;34m:\u001b[0m\u001b[0;34m\u001b[0m\u001b[0;34m\u001b[0m\u001b[0m\n\u001b[1;32m   1046\u001b[0m             \u001b[0;31m# the behavior of a negative timeout isn't documented, but\u001b[0m\u001b[0;34m\u001b[0m\u001b[0;34m\u001b[0m\u001b[0;34m\u001b[0m\u001b[0m\n",
            "\u001b[0;32m/usr/lib/python3.7/threading.py\u001b[0m in \u001b[0;36m_wait_for_tstate_lock\u001b[0;34m(self, block, timeout)\u001b[0m\n\u001b[1;32m   1058\u001b[0m         \u001b[0;32mif\u001b[0m \u001b[0mlock\u001b[0m \u001b[0;32mis\u001b[0m \u001b[0;32mNone\u001b[0m\u001b[0;34m:\u001b[0m  \u001b[0;31m# already determined that the C code is done\u001b[0m\u001b[0;34m\u001b[0m\u001b[0;34m\u001b[0m\u001b[0m\n\u001b[1;32m   1059\u001b[0m             \u001b[0;32massert\u001b[0m \u001b[0mself\u001b[0m\u001b[0;34m.\u001b[0m\u001b[0m_is_stopped\u001b[0m\u001b[0;34m\u001b[0m\u001b[0;34m\u001b[0m\u001b[0m\n\u001b[0;32m-> 1060\u001b[0;31m         \u001b[0;32melif\u001b[0m \u001b[0mlock\u001b[0m\u001b[0;34m.\u001b[0m\u001b[0macquire\u001b[0m\u001b[0;34m(\u001b[0m\u001b[0mblock\u001b[0m\u001b[0;34m,\u001b[0m \u001b[0mtimeout\u001b[0m\u001b[0;34m)\u001b[0m\u001b[0;34m:\u001b[0m\u001b[0;34m\u001b[0m\u001b[0;34m\u001b[0m\u001b[0m\n\u001b[0m\u001b[1;32m   1061\u001b[0m             \u001b[0mlock\u001b[0m\u001b[0;34m.\u001b[0m\u001b[0mrelease\u001b[0m\u001b[0;34m(\u001b[0m\u001b[0;34m)\u001b[0m\u001b[0;34m\u001b[0m\u001b[0;34m\u001b[0m\u001b[0m\n\u001b[1;32m   1062\u001b[0m             \u001b[0mself\u001b[0m\u001b[0;34m.\u001b[0m\u001b[0m_stop\u001b[0m\u001b[0;34m(\u001b[0m\u001b[0;34m)\u001b[0m\u001b[0;34m\u001b[0m\u001b[0;34m\u001b[0m\u001b[0m\n",
            "\u001b[0;31mKeyboardInterrupt\u001b[0m: "
          ]
        },
        {
          "output_type": "stream",
          "name": "stdout",
          "text": [
            "Lock2 : lock release\n",
            "Lock1 : lock acquire\n"
          ]
        }
      ]
    },
    {
      "cell_type": "markdown",
      "source": [
        "# Reference\n",
        "- [Python Threading](https://www.pythontutorial.net/advanced-python/python-threading/)  \n",
        "- [What’s are the Differences between Processes and Threads](https://www.pythontutorial.net/advanced-python/differences-between-processes-and-threads/)\n",
        "- [python3: Threadで排他制御をする](https://www.raspberrypirulo.net/entry/thread-lock)"
      ],
      "metadata": {
        "id": "ycBeIaW6qokF"
      }
    }
  ]
}