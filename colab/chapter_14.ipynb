{
  "nbformat": 4,
  "nbformat_minor": 0,
  "metadata": {
    "colab": {
      "name": "chapter_14.ipynb",
      "provenance": [],
      "authorship_tag": "ABX9TyMG7ADhO0/T9KyLFumdqAC3",
      "include_colab_link": true
    },
    "kernelspec": {
      "name": "python3",
      "display_name": "Python 3"
    },
    "language_info": {
      "name": "python"
    }
  },
  "cells": [
    {
      "cell_type": "markdown",
      "metadata": {
        "id": "view-in-github",
        "colab_type": "text"
      },
      "source": [
        "<a href=\"https://colab.research.google.com/github/r-matsuzaka/practice-elements-of-programming/blob/main/colab/chapter_14.ipynb\" target=\"_parent\"><img src=\"https://colab.research.google.com/assets/colab-badge.svg\" alt=\"Open In Colab\"/></a>"
      ]
    },
    {
      "cell_type": "markdown",
      "source": [
        "# Chapter14: Greedy Algorithms and Invariants"
      ],
      "metadata": {
        "id": "3MF0a805S6vd"
      }
    },
    {
      "cell_type": "markdown",
      "source": [
        "## Greedy Algorithms"
      ],
      "metadata": {
        "id": "iI-uQ7OyxJeT"
      }
    },
    {
      "cell_type": "code",
      "source": [
        "from collections import deque\n",
        " \n",
        "def findMin(V, denos):\n",
        "    queue = deque(denos)\n",
        "    ans = []\n",
        "    while queue:\n",
        "        coin = queue.pop()\n",
        "        while (V >= coin):\n",
        "           V = V - coin\n",
        "           ans.append(coin)\n",
        "\n",
        "    print(ans)"
      ],
      "metadata": {
        "id": "o5NF8I-ExxoS"
      },
      "execution_count": 1,
      "outputs": []
    },
    {
      "cell_type": "code",
      "source": [
        "# Optimum\n",
        "V = 93\n",
        "denos = [1, 2, 5, 10, 20, 50, 100, 500, 1000]\n",
        "findMin(V, denos)"
      ],
      "metadata": {
        "colab": {
          "base_uri": "https://localhost:8080/"
        },
        "id": "QMZKQn6ES9nv",
        "outputId": "814d1186-9d42-445a-9da0-ca8ac9952c6c"
      },
      "execution_count": 2,
      "outputs": [
        {
          "output_type": "stream",
          "name": "stdout",
          "text": [
            "[50, 20, 20, 2, 1]\n"
          ]
        }
      ]
    },
    {
      "cell_type": "code",
      "source": [
        "# Optimum\n",
        "V = 18\n",
        "denos = [1, 4, 7]\n",
        "findMin(V, denos)"
      ],
      "metadata": {
        "colab": {
          "base_uri": "https://localhost:8080/"
        },
        "id": "16BO8KToxiBO",
        "outputId": "e26e481c-4bf8-4692-8e40-4d5ff18591b6"
      },
      "execution_count": 3,
      "outputs": [
        {
          "output_type": "stream",
          "name": "stdout",
          "text": [
            "[7, 7, 4]\n"
          ]
        }
      ]
    },
    {
      "cell_type": "code",
      "source": [
        "# Not optimum\n",
        "V = 18\n",
        "denos = [1, 6, 13]\n",
        "findMin(V, denos)\n",
        "\n",
        "# optimum is [6, 6, 6]"
      ],
      "metadata": {
        "colab": {
          "base_uri": "https://localhost:8080/"
        },
        "id": "UWx1XpHZxuQC",
        "outputId": "1ac7c0c9-ecdb-454f-bf49-f014389e436c"
      },
      "execution_count": 4,
      "outputs": [
        {
          "output_type": "stream",
          "name": "stdout",
          "text": [
            "[13, 1, 1, 1, 1, 1]\n"
          ]
        }
      ]
    },
    {
      "cell_type": "markdown",
      "source": [
        "## Dynamic programming"
      ],
      "metadata": {
        "id": "bq1U7odryMX_"
      }
    },
    {
      "cell_type": "code",
      "source": [
        "from typing import List\n",
        "import numpy as np\n",
        "\n",
        "def main(N:int, coins:List[int]) -> int:\n",
        "  \"\"\"\n",
        "  Args:\n",
        "    coins (List(int)): set of coin(s)\n",
        "    N (int): amount of exchange\n",
        "    \n",
        "  Example:\n",
        "    coins = {1, 2, 7, 8, 12, 50}\n",
        "    M = the number of coins\n",
        "    N = 8\n",
        "    \n",
        "  c_i: ith coin\n",
        "\n",
        "  table of minimum value of the number of coins\n",
        "  when we want to exchange j with c_1, c\n",
        "\n",
        "    |j → | 0 |  1  |  2  |  3  |  4  |  5  |  6  |  7  | 8(N)|\n",
        "    -----------------------------------------------------------\n",
        "  i |c_i↓|   |     |     |     |     |     |     |     |     |\n",
        "  0 |  0  | 0 | INF | INF | INF | INF | INF | INF | INF | INF |\n",
        "  1 |  1  | 0 |  1  |  2  |  3  |  4  |  5  |  6  |  7  |  8  |\n",
        "  2 |  2  | 0 |  1  |  1  |  2  |  2  |  3  |  3  |  4  |  4  |\n",
        "  3 |  7  | 0 |  1  |  1  |  2  |  2  |  3  |  3  |  1  |  2  |\n",
        "  4 |  8  | 0 |  1  |  1  |  2  |  2  |  3  |  3  |  1  |  1  |\n",
        "  5 |  12 | 0 |  1  |  1  |  2  |  2  |  3  |  3  |  1  |  1  |\n",
        "  6 |  50 | 0 |  1  |  1  |  2  |  2  |  3  |  3  |  1  |  1  |\n",
        "\n",
        "  Return\n",
        "    int: minimum number of coin(s)\n",
        "  \"\"\"\n",
        "  M = len(coins)\n",
        "  coins = [0] + coins #0円玉を考える\n",
        "  \n",
        "  # Initialization\n",
        "  dp = [[0]*(N+1)]*(M+1)\n",
        "\n",
        "  # cannot exchange any money with 0 coins\n",
        "  dp[0]=[float(\"inf\") if i!= 0 else 0 for i in range(N+1)]\n",
        "  dp = np.array(dp)\n",
        "  \n",
        "  for i in range(1, M+1):\n",
        "    for j in range(1, N+1):\n",
        "      #print(dp)\n",
        "      #print(coins[i])\n",
        "      if j < coins[i]:\n",
        "        dp[i][j] = dp[i-1][j]\n",
        "      else:\n",
        "        dp[i][j] = min(dp[i-1][j], dp[i][j-coins[i]]+1)\n",
        "\n",
        "  ans = int(dp[M][N])\n",
        "  # print(dp)\n",
        "  print(f\"minimum number of coin(s): {ans}\")\n",
        "\n",
        "main(N=15, coins = [1, 2, 7, 8, 12, 50])"
      ],
      "metadata": {
        "colab": {
          "base_uri": "https://localhost:8080/"
        },
        "id": "xZW5Ifr0Dyp1",
        "outputId": "3f5dd652-03ce-4fd6-d34a-8e57da04b0cd"
      },
      "execution_count": 5,
      "outputs": [
        {
          "output_type": "stream",
          "name": "stdout",
          "text": [
            "minimum number of coin(s): 2\n"
          ]
        }
      ]
    },
    {
      "cell_type": "markdown",
      "source": [
        "## Reference\n",
        "- [DP（動的計画法）でコイン問題を解くまでの過程メモ](https://o-treetree.hatenablog.com/entry/DPL1A)\n",
        "- [AOJ Coin Changing Problem](https://onlinejudge.u-aizu.ac.jp/courses/library/7/DPL/1/DPL_1_A)\n",
        "- [そのアルゴリズム、貪欲につき――貪欲法のススメ](https://www.itmedia.co.jp/enterprise/articles/1009/04/news002.html)\n",
        "- [Python Program for Coin Change](https://www.geeksforgeeks.org/python-program-for-coin-change/)"
      ],
      "metadata": {
        "id": "5dzaDDsHTFkN"
      }
    }
  ]
}