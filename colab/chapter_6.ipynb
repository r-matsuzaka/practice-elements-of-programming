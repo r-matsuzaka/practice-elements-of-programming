{
  "nbformat": 4,
  "nbformat_minor": 0,
  "metadata": {
    "colab": {
      "name": "chapter_6.ipynb",
      "provenance": [],
      "collapsed_sections": [],
      "authorship_tag": "ABX9TyM4fwhv+vSHKsQCuuh+oTFX",
      "include_colab_link": true
    },
    "kernelspec": {
      "name": "python3",
      "display_name": "Python 3"
    },
    "language_info": {
      "name": "python"
    }
  },
  "cells": [
    {
      "cell_type": "markdown",
      "metadata": {
        "id": "view-in-github",
        "colab_type": "text"
      },
      "source": [
        "<a href=\"https://colab.research.google.com/github/r-matsuzaka/practice-elements-of-programming/blob/main/colab/chapter_6.ipynb\" target=\"_parent\"><img src=\"https://colab.research.google.com/assets/colab-badge.svg\" alt=\"Open In Colab\"/></a>"
      ]
    },
    {
      "cell_type": "markdown",
      "source": [
        "# Chapter6 Binary Trees\n",
        "\n",
        "This document and code is created by r-matsuzaka."
      ],
      "metadata": {
        "id": "ebp-5aZ-5vN7"
      }
    },
    {
      "cell_type": "code",
      "source": [
        "%%capture\n",
        "!pip install yapf"
      ],
      "metadata": {
        "id": "3DknEZsr6tG5"
      },
      "execution_count": 1,
      "outputs": []
    },
    {
      "cell_type": "code",
      "source": [
        "from IPython.core.magic import register_cell_magic\n",
        "from yapf.yapflib.yapf_api import FormatCode\n",
        "\n",
        "\n",
        "@register_cell_magic\n",
        "def fmt(line, cell):\n",
        "   \"\"\"\n",
        "   My formatter cell magic comannd.\n",
        "   Please install yapf before using this magic command.\n",
        "   \"\"\"\n",
        "   print(FormatCode(cell, style_config='pep8')[0])"
      ],
      "metadata": {
        "id": "9R-0b7qJ7-xX"
      },
      "execution_count": 2,
      "outputs": []
    },
    {
      "cell_type": "code",
      "source": [
        "# %%fmt\n",
        "class BinaryTreeNode:\n",
        "    def __init__(self, data=None, left=None, right=None):\n",
        "        self.data = data\n",
        "        self.left = left\n",
        "        self.right = right\n",
        " \n",
        "def tree_traversal(root):\n",
        "  \"\"\"\n",
        "  traverse binary tree node\n",
        "  - Preorder(先行順 / 行きがけ順) Processes the root before the traversals of left and right children.\n",
        "  - Inorder(中間順 / 通りがけ順) Processes the root after the traversal of left child and before the traversal of right child.\n",
        "  - Postorder(帰りがけ順 / 後行順) Processes the root after the traversals of left and right children.\n",
        "  \"\"\"\n",
        "\n",
        "  if root:\n",
        "      # insert some codes for preorder searching\n",
        "      print(f'Preorder: %d' % root.data)\n",
        "      tree_traversal(root.left)\n",
        "\n",
        "      # insert some codes for inorder searching\n",
        "      print('Inorder: %d' % root.data)\n",
        "\n",
        "      tree_traversal(root.right)\n",
        "      # insert some codes for postorder searching\n",
        "      print('Postorder: %d' % root.data)"
      ],
      "metadata": {
        "id": "saEhNeC-5x3z"
      },
      "execution_count": 3,
      "outputs": []
    },
    {
      "cell_type": "code",
      "source": [
        "import collections\n",
        "def is_balanced_binary_tree(tree):\n",
        "  BalancedStatusWithHeight = collections.namedtuple(\n",
        "      'BalancedStatusWithHeight', ('balanced', 'height')\n",
        "  )\n",
        "\n",
        "  def check_balanced(tree):\n",
        "    if not tree:\n",
        "      return BalancedStatusWithHeight(True, -1) # Base case.\n",
        "\n",
        "    left_result = check_balanced(tree.left)\n",
        "    if not left_result.balanced:\n",
        "      return BalancedStatusWithHeight(False, 0)\n",
        "\n",
        "    right_result = check_balanced(tree.right)\n",
        "    if not right_result.balanced:\n",
        "      return BalancedStatusWithHeight(False, 0)\n",
        "    \n",
        "    is_balanced = abs(left_result.height - right_result.height) <= 1\n",
        "    height = max(left_result.height, right_result.height) + 1\n",
        "    return BalancedStatusWithHeight(is_balanced, height)"
      ],
      "metadata": {
        "id": "R9p00Ug_-YRB"
      },
      "execution_count": 4,
      "outputs": []
    },
    {
      "cell_type": "code",
      "source": [
        "%%capture\n",
        "# create binary tree\n",
        "root = BinaryTreeNode(1)\n",
        "\"\"\" \n",
        "following is the tree after above statement\n",
        "        1\n",
        "      /    ＼\n",
        "     None  None\n",
        "\"\"\"\n",
        " \n",
        "root.left      = BinaryTreeNode(2)\n",
        "root.right     = BinaryTreeNode(3)\n",
        "   \n",
        "\"\"\"\n",
        " 2 and 3 become left and right children of 1\n",
        "           1\n",
        "         /   ＼\n",
        "        2      3\n",
        "     /   ＼   /  ＼\n",
        "   None None None None\n",
        "\"\"\"\n",
        "\n",
        "root.left.left = BinaryTreeNode(4)\n",
        "\"\"\"\n",
        "4 becomes left child of 2\n",
        "           1\n",
        "       /      ＼\n",
        "      2          3\n",
        "    /   ＼      /  ＼\n",
        "   4    None  None  None\n",
        "  /  ＼\n",
        "None None\n",
        "\"\"\""
      ],
      "metadata": {
        "id": "ivlNykwrBaUy"
      },
      "execution_count": 5,
      "outputs": []
    },
    {
      "cell_type": "code",
      "source": [
        "tree_traversal(root)"
      ],
      "metadata": {
        "colab": {
          "base_uri": "https://localhost:8080/"
        },
        "id": "xqJE3FCvS8qY",
        "outputId": "75db8e4a-1139-4c52-ff30-c2d90a79fa9a"
      },
      "execution_count": 6,
      "outputs": [
        {
          "output_type": "stream",
          "name": "stdout",
          "text": [
            "Preorder: 1\n",
            "Preorder: 2\n",
            "Preorder: 4\n",
            "Inorder: 4\n",
            "Postorder: 4\n",
            "Inorder: 2\n",
            "Postorder: 2\n",
            "Inorder: 1\n",
            "Preorder: 3\n",
            "Inorder: 3\n",
            "Postorder: 3\n",
            "Postorder: 1\n"
          ]
        }
      ]
    },
    {
      "cell_type": "markdown",
      "source": [
        "Problem from GFG\n",
        "\n",
        "\n",
        "\n",
        "Given the root of a binary tree. Check whether it is a BST or not.  \n",
        "Note: We are considering that BSTs can not contain duplicate Nodes.  \n",
        "A BST is defined as follows:  \n",
        "\n",
        "The left subtree of a node contains only nodes with keys less than the node's key.  \n",
        "The right subtree of a node contains only nodes with keys greater than the node's key.  \n",
        "Both the left and right subtrees must also be binary search trees."
      ],
      "metadata": {
        "id": "eJkwsW-4SQtU"
      }
    },
    {
      "cell_type": "code",
      "source": [
        "%%capture\n",
        "# create binary tree\n",
        "root2 = BinaryTreeNode(1)\n",
        "\"\"\" \n",
        "following is the tree after above statement\n",
        "        1\n",
        "      /    ＼\n",
        "     None  None\n",
        "\"\"\"\n",
        " \n",
        "root2.left      = BinaryTreeNode(2)\n",
        "root2.right     = BinaryTreeNode(3)\n",
        "   \n",
        "\"\"\"\n",
        " 2 and 3 become left and right children of 1\n",
        "           1\n",
        "         /   ＼\n",
        "        2      3\n",
        "     /   ＼   /  ＼\n",
        "   None None None None\n",
        "\"\"\"\n",
        "\n",
        "root2.left.left = BinaryTreeNode(1)\n",
        "\"\"\"\n",
        "1 becomes left child of 2\n",
        "           1\n",
        "       /      ＼\n",
        "      2          3\n",
        "    /   ＼      /  ＼\n",
        "   1    None  None  None\n",
        "  /  ＼\n",
        "None None\n",
        "\"\"\""
      ],
      "metadata": {
        "id": "Kma0B48HU6L_"
      },
      "execution_count": 7,
      "outputs": []
    },
    {
      "cell_type": "code",
      "source": [
        "%%capture\n",
        "# create binary tree\n",
        "root3 = BinaryTreeNode(3)\n",
        "\"\"\" \n",
        "following is the tree after above statement\n",
        "        3\n",
        "      /    ＼\n",
        "     None  None\n",
        "\"\"\"\n",
        " \n",
        "root3.left      = BinaryTreeNode(2)\n",
        "root3.right     = BinaryTreeNode(4)\n",
        "   \n",
        "\"\"\"\n",
        " 2 and 4 become left and right children of 3\n",
        "           3\n",
        "         /   ＼\n",
        "        2      4\n",
        "     /   ＼   /  ＼\n",
        "   None None None None\n",
        "\"\"\"\n",
        "\n",
        "root3.left.left = BinaryTreeNode(1)\n",
        "\"\"\"\n",
        "1 becomes left child of 2\n",
        "           3\n",
        "       /      ＼\n",
        "      2          4\n",
        "    /   ＼      /  ＼\n",
        "   1    None  None  None\n",
        "  /  ＼\n",
        "None None\n",
        "\"\"\""
      ],
      "metadata": {
        "id": "5-lzgd4vmvVb"
      },
      "execution_count": 8,
      "outputs": []
    },
    {
      "cell_type": "code",
      "source": [
        "%%capture\n",
        "# create binary tree\n",
        "root4 = BinaryTreeNode(2)\n",
        "root4.right = BinaryTreeNode(7)\n",
        "root4.right.left = BinaryTreeNode(1)\n",
        "root4.right.right = BinaryTreeNode(6)\n",
        "\n",
        "\"\"\"\n",
        "1 becomes left child of 2\n",
        "           2\n",
        "       /      ＼\n",
        "     None        7\n",
        "                /  ＼\n",
        "               1     6\n",
        "             /  ＼  /  ＼\n",
        "          None None None None\n",
        "\"\"\""
      ],
      "metadata": {
        "id": "DBVx3oy9r4v5"
      },
      "execution_count": 9,
      "outputs": []
    },
    {
      "cell_type": "code",
      "source": [
        "%%capture\n",
        "# create binary tree\n",
        "root5 = BinaryTreeNode(10)\n",
        "root5.left = BinaryTreeNode(5)\n",
        "root5.right = BinaryTreeNode(18)\n",
        "\n",
        "root5.left.left = BinaryTreeNode(2)\n",
        "root5.left.right = BinaryTreeNode(6)\n",
        "\n",
        "root5.right.left = BinaryTreeNode(12)\n",
        "\n",
        "root5.left.left.left = BinaryTreeNode(1)\n",
        "root5.left.left.right = BinaryTreeNode(4)\n",
        "\n",
        "root5.left.right.right = BinaryTreeNode(7)\n",
        "root5.right.left.left = BinaryTreeNode(11)\n",
        "root5.right.left.right = BinaryTreeNode(17)\n",
        "\n",
        "\"\"\"\n",
        "1 becomes left child of 2\n",
        "          10\n",
        "       /      ＼\n",
        "      5         18\n",
        "    /   ＼      /  ＼\n",
        "   2      6    12    None\n",
        "  /  ＼  / ＼  /＼   /＼\n",
        " 1     4 N  7 11 17  N   N\n",
        "\"\"\""
      ],
      "metadata": {
        "id": "xEEbBHfmpyqH"
      },
      "execution_count": 10,
      "outputs": []
    },
    {
      "cell_type": "code",
      "source": [
        "%%capture\n",
        "# create binary tree\n",
        "root6 = BinaryTreeNode(10)\n",
        "root6.left = BinaryTreeNode(5)\n",
        "root6.right = BinaryTreeNode(18)\n",
        "\n",
        "root6.left.left = BinaryTreeNode(2)\n",
        "root6.left.right = BinaryTreeNode(9)\n",
        "\n",
        "root6.right.left = BinaryTreeNode(15)\n",
        "root6.right.right = BinaryTreeNode(19)\n",
        "\n",
        "root6.left.left.right = BinaryTreeNode(4)\n",
        "root6.left.right.left = BinaryTreeNode(8)\n",
        "\n",
        "root6.right.left.left = BinaryTreeNode(1)\n",
        "\n",
        "\"\"\"\n",
        "1 becomes left child of 2\n",
        "          10\n",
        "       /      ＼\n",
        "      5         18\n",
        "    /   ＼      /  ＼\n",
        "   2      9    15    19\n",
        "  /  ＼  / ＼  /＼   /＼\n",
        " N     4 8   N 1  N  N   N\n",
        "\"\"\""
      ],
      "metadata": {
        "id": "G1dKneBBsGFd"
      },
      "execution_count": 11,
      "outputs": []
    },
    {
      "cell_type": "code",
      "source": [
        "# %%fmt\n",
        "def is_bst(root):\n",
        "    \"\"\"\n",
        "  Check given binary tree is sorted correctly or not.\n",
        "  For more details of BST(Binary seach tree), see https://en.wikipedia.org/wiki/Binary_search_tree\n",
        "\n",
        "  Args:\n",
        "    root (binary tree object)\n",
        "    pre_val (float)\n",
        "    ans (bool): If True, binary tree is correctly sorted, otherwise False.\n",
        "\n",
        "  Returns:\n",
        "    bool :True if tree is correctly sorted. False if tree is incorrectly sorted\n",
        "  \"\"\"\n",
        "    \n",
        "    def _is_bst(root, pre_val=-float('inf'),ans = True):\n",
        "        if not ans:\n",
        "            return pre_val, ans\n",
        "\n",
        "        elif root:\n",
        "        #if root and ans:\n",
        "            print(root.data, pre_val, ans)\n",
        "\n",
        "            # pre_val = root.data\n",
        "            pre_val, ans = _is_bst(root.left, pre_val, ans)\n",
        "            # Inorder: Processes the root after the traversal of left child and before the traversal of right child.\n",
        "\n",
        "            print(\n",
        "               'Inorder: current value is %d , previous value is %f' %\n",
        "               (root.data, pre_val))\n",
        "\n",
        "            ans = root.data > pre_val\n",
        "            print(f\"ans:{ans}\")\n",
        "\n",
        "            pre_val = root.data\n",
        "\n",
        "            pre_val, ans = _is_bst(root.right, pre_val, ans)\n",
        "\n",
        "        return pre_val, ans\n",
        "\n",
        "\n",
        "    pre_val, ans = _is_bst(root)\n",
        "    return ans"
      ],
      "metadata": {
        "id": "VLSiicC1UtdU"
      },
      "execution_count": 12,
      "outputs": []
    },
    {
      "cell_type": "markdown",
      "source": [
        "**Test case**  \n",
        "\n",
        "- root: 0  \n",
        "- root2: 0  \n",
        "- root3: 1  \n",
        "- root4: 0  \n",
        "- root5: 1  \n",
        "- root6: 0  "
      ],
      "metadata": {
        "id": "Wa4YwvaBDbFc"
      }
    },
    {
      "cell_type": "code",
      "source": [
        "tree_traversal(root)"
      ],
      "metadata": {
        "colab": {
          "base_uri": "https://localhost:8080/"
        },
        "id": "vbBIz92vtkqh",
        "outputId": "3cb6aec7-fb57-43bb-f174-533e0435ed2d"
      },
      "execution_count": 13,
      "outputs": [
        {
          "output_type": "stream",
          "name": "stdout",
          "text": [
            "Preorder: 1\n",
            "Preorder: 2\n",
            "Preorder: 4\n",
            "Inorder: 4\n",
            "Postorder: 4\n",
            "Inorder: 2\n",
            "Postorder: 2\n",
            "Inorder: 1\n",
            "Preorder: 3\n",
            "Inorder: 3\n",
            "Postorder: 3\n",
            "Postorder: 1\n"
          ]
        }
      ]
    },
    {
      "cell_type": "code",
      "source": [
        "\"\"\"\n",
        "4 becomes left child of 2\n",
        "           1\n",
        "       /      ＼\n",
        "      2          3\n",
        "    /   ＼      /  ＼\n",
        "   4    None  None  None\n",
        "  /  ＼\n",
        "None None\n",
        "\"\"\"\n",
        "is_bst(root)"
      ],
      "metadata": {
        "colab": {
          "base_uri": "https://localhost:8080/"
        },
        "id": "A7WejZkuU17Z",
        "outputId": "e4d15e52-99be-41b5-959d-c6ab37093d1c"
      },
      "execution_count": 14,
      "outputs": [
        {
          "output_type": "stream",
          "name": "stdout",
          "text": [
            "1 -inf True\n",
            "2 -inf True\n",
            "4 -inf True\n",
            "Inorder: current value is 4 , previous value is -inf\n",
            "ans:True\n",
            "Inorder: current value is 2 , previous value is 4.000000\n",
            "ans:False\n",
            "Inorder: current value is 1 , previous value is 2.000000\n",
            "ans:False\n"
          ]
        },
        {
          "output_type": "execute_result",
          "data": {
            "text/plain": [
              "False"
            ]
          },
          "metadata": {},
          "execution_count": 14
        }
      ]
    },
    {
      "cell_type": "code",
      "source": [
        "is_bst(root2)"
      ],
      "metadata": {
        "colab": {
          "base_uri": "https://localhost:8080/"
        },
        "id": "1eQl0ti_EC0i",
        "outputId": "c8635ae6-f2f7-4766-b5e2-62489a4e13d9"
      },
      "execution_count": 15,
      "outputs": [
        {
          "output_type": "stream",
          "name": "stdout",
          "text": [
            "1 -inf True\n",
            "2 -inf True\n",
            "1 -inf True\n",
            "Inorder: current value is 1 , previous value is -inf\n",
            "ans:True\n",
            "Inorder: current value is 2 , previous value is 1.000000\n",
            "ans:True\n",
            "Inorder: current value is 1 , previous value is 2.000000\n",
            "ans:False\n"
          ]
        },
        {
          "output_type": "execute_result",
          "data": {
            "text/plain": [
              "False"
            ]
          },
          "metadata": {},
          "execution_count": 15
        }
      ]
    },
    {
      "cell_type": "code",
      "source": [
        "\"\"\"\n",
        "1 becomes left child of 2\n",
        "           3\n",
        "       /      ＼\n",
        "      2          4\n",
        "    /   ＼      /  ＼\n",
        "   1    None  None  None\n",
        "  /  ＼\n",
        "None None\n",
        "\"\"\"\n",
        "is_bst(root3)"
      ],
      "metadata": {
        "colab": {
          "base_uri": "https://localhost:8080/"
        },
        "id": "Tf_Oa45kEEn7",
        "outputId": "782ceaaf-8a61-4ca4-b364-11a26a6dbc69"
      },
      "execution_count": 16,
      "outputs": [
        {
          "output_type": "stream",
          "name": "stdout",
          "text": [
            "3 -inf True\n",
            "2 -inf True\n",
            "1 -inf True\n",
            "Inorder: current value is 1 , previous value is -inf\n",
            "ans:True\n",
            "Inorder: current value is 2 , previous value is 1.000000\n",
            "ans:True\n",
            "Inorder: current value is 3 , previous value is 2.000000\n",
            "ans:True\n",
            "4 3 True\n",
            "Inorder: current value is 4 , previous value is 3.000000\n",
            "ans:True\n"
          ]
        },
        {
          "output_type": "execute_result",
          "data": {
            "text/plain": [
              "True"
            ]
          },
          "metadata": {},
          "execution_count": 16
        }
      ]
    },
    {
      "cell_type": "code",
      "source": [
        "is_bst(root4)"
      ],
      "metadata": {
        "id": "W1l8QdNHEHH-",
        "colab": {
          "base_uri": "https://localhost:8080/"
        },
        "outputId": "a764a4ec-a593-4741-a068-1b016270ef0a"
      },
      "execution_count": 17,
      "outputs": [
        {
          "output_type": "stream",
          "name": "stdout",
          "text": [
            "2 -inf True\n",
            "Inorder: current value is 2 , previous value is -inf\n",
            "ans:True\n",
            "7 2 True\n",
            "1 2 True\n",
            "Inorder: current value is 1 , previous value is 2.000000\n",
            "ans:False\n",
            "Inorder: current value is 7 , previous value is 1.000000\n",
            "ans:True\n",
            "6 7 True\n",
            "Inorder: current value is 6 , previous value is 7.000000\n",
            "ans:False\n"
          ]
        },
        {
          "output_type": "execute_result",
          "data": {
            "text/plain": [
              "False"
            ]
          },
          "metadata": {},
          "execution_count": 17
        }
      ]
    },
    {
      "cell_type": "code",
      "source": [
        "is_bst(root5)"
      ],
      "metadata": {
        "id": "T5afxugqEJjX",
        "colab": {
          "base_uri": "https://localhost:8080/"
        },
        "outputId": "ec90ef5f-816e-4293-b0e6-d4b9617e55d8"
      },
      "execution_count": 18,
      "outputs": [
        {
          "output_type": "stream",
          "name": "stdout",
          "text": [
            "10 -inf True\n",
            "5 -inf True\n",
            "2 -inf True\n",
            "1 -inf True\n",
            "Inorder: current value is 1 , previous value is -inf\n",
            "ans:True\n",
            "Inorder: current value is 2 , previous value is 1.000000\n",
            "ans:True\n",
            "4 2 True\n",
            "Inorder: current value is 4 , previous value is 2.000000\n",
            "ans:True\n",
            "Inorder: current value is 5 , previous value is 4.000000\n",
            "ans:True\n",
            "6 5 True\n",
            "Inorder: current value is 6 , previous value is 5.000000\n",
            "ans:True\n",
            "7 6 True\n",
            "Inorder: current value is 7 , previous value is 6.000000\n",
            "ans:True\n",
            "Inorder: current value is 10 , previous value is 7.000000\n",
            "ans:True\n",
            "18 10 True\n",
            "12 10 True\n",
            "11 10 True\n",
            "Inorder: current value is 11 , previous value is 10.000000\n",
            "ans:True\n",
            "Inorder: current value is 12 , previous value is 11.000000\n",
            "ans:True\n",
            "17 12 True\n",
            "Inorder: current value is 17 , previous value is 12.000000\n",
            "ans:True\n",
            "Inorder: current value is 18 , previous value is 17.000000\n",
            "ans:True\n"
          ]
        },
        {
          "output_type": "execute_result",
          "data": {
            "text/plain": [
              "True"
            ]
          },
          "metadata": {},
          "execution_count": 18
        }
      ]
    },
    {
      "cell_type": "code",
      "source": [
        "is_bst(root6)"
      ],
      "metadata": {
        "id": "OLhN19SdEL7L",
        "colab": {
          "base_uri": "https://localhost:8080/"
        },
        "outputId": "852bb85e-6d75-4386-d29e-612de6cd1f22"
      },
      "execution_count": 19,
      "outputs": [
        {
          "output_type": "stream",
          "name": "stdout",
          "text": [
            "10 -inf True\n",
            "5 -inf True\n",
            "2 -inf True\n",
            "Inorder: current value is 2 , previous value is -inf\n",
            "ans:True\n",
            "4 2 True\n",
            "Inorder: current value is 4 , previous value is 2.000000\n",
            "ans:True\n",
            "Inorder: current value is 5 , previous value is 4.000000\n",
            "ans:True\n",
            "9 5 True\n",
            "8 5 True\n",
            "Inorder: current value is 8 , previous value is 5.000000\n",
            "ans:True\n",
            "Inorder: current value is 9 , previous value is 8.000000\n",
            "ans:True\n",
            "Inorder: current value is 10 , previous value is 9.000000\n",
            "ans:True\n",
            "18 10 True\n",
            "15 10 True\n",
            "1 10 True\n",
            "Inorder: current value is 1 , previous value is 10.000000\n",
            "ans:False\n",
            "Inorder: current value is 15 , previous value is 1.000000\n",
            "ans:True\n",
            "Inorder: current value is 18 , previous value is 15.000000\n",
            "ans:True\n",
            "19 18 True\n",
            "Inorder: current value is 19 , previous value is 18.000000\n",
            "ans:True\n"
          ]
        },
        {
          "output_type": "execute_result",
          "data": {
            "text/plain": [
              "True"
            ]
          },
          "metadata": {},
          "execution_count": 19
        }
      ]
    },
    {
      "cell_type": "markdown",
      "source": [
        "**TODO**\n",
        "- break when False"
      ],
      "metadata": {
        "id": "OL32z6JxBpXg"
      }
    },
    {
      "cell_type": "markdown",
      "source": [
        "# Reference  \n",
        "- [Binary Tree | Set 1 (Introduction)](https://www.geeksforgeeks.org/binary-tree-set-1-introduction/)\n",
        "- [Check for BST](https://practice.geeksforgeeks.org/problems/check-for-bst/1/?page=1&category[]=Tree&category[]=Searching&sortBy=submissions)"
      ],
      "metadata": {
        "id": "SWxcKZ5rARky"
      }
    }
  ]
}