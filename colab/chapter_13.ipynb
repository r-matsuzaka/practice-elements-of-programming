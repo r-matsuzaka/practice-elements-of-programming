{
  "nbformat": 4,
  "nbformat_minor": 0,
  "metadata": {
    "colab": {
      "name": "chapter_13.ipynb",
      "provenance": [],
      "authorship_tag": "ABX9TyPssMCAjRr05lFwlfJitGoe",
      "include_colab_link": true
    },
    "kernelspec": {
      "name": "python3",
      "display_name": "Python 3"
    },
    "language_info": {
      "name": "python"
    }
  },
  "cells": [
    {
      "cell_type": "markdown",
      "metadata": {
        "id": "view-in-github",
        "colab_type": "text"
      },
      "source": [
        "<a href=\"https://colab.research.google.com/github/r-matsuzaka/practice-elements-of-programming/blob/main/colab/chapter_13.ipynb\" target=\"_parent\"><img src=\"https://colab.research.google.com/assets/colab-badge.svg\" alt=\"Open In Colab\"/></a>"
      ]
    },
    {
      "cell_type": "markdown",
      "source": [
        "# Chapter13 Dynamic Programming"
      ],
      "metadata": {
        "id": "9XRC1VXW8IpS"
      }
    },
    {
      "cell_type": "code",
      "source": [
        "%%capture\n",
        "!pip install yapf\n",
        "\n",
        "from IPython.core.magic import register_cell_magic\n",
        "from yapf.yapflib.yapf_api import FormatCode\n",
        "\n",
        "\n",
        "@register_cell_magic\n",
        "def fmt(line, cell):\n",
        "   \"\"\"\n",
        "   My formatter cell magic comannd.\n",
        "   Please install yapf before using this magic command.\n",
        "   \"\"\"\n",
        "   print(FormatCode(cell, style_config='pep8')[0])"
      ],
      "metadata": {
        "id": "C3lpbKE4Kph4"
      },
      "execution_count": 1,
      "outputs": []
    },
    {
      "cell_type": "markdown",
      "source": [
        "## Fibonacci number\n",
        "- Recursion\n",
        "- Dynamic programming"
      ],
      "metadata": {
        "id": "3fVnYSPY8e8X"
      }
    },
    {
      "cell_type": "code",
      "source": [
        "def fibonacci_dp(n, cache={}):\n",
        "  if n <= 1:\n",
        "    return n\n",
        "\n",
        "  elif n not in cache:\n",
        "    cache[n] = fibonacci_dp(n-1) + fibonacci_dp(n-2)\n",
        "  return cache[n]\n",
        "\n",
        "fibonacci_dp(10)"
      ],
      "metadata": {
        "colab": {
          "base_uri": "https://localhost:8080/"
        },
        "id": "vgbVSs3lKtO2",
        "outputId": "9e1d9c6a-4752-40cb-b751-ae08693d99ad"
      },
      "execution_count": 2,
      "outputs": [
        {
          "output_type": "execute_result",
          "data": {
            "text/plain": [
              "55"
            ]
          },
          "metadata": {},
          "execution_count": 2
        }
      ]
    },
    {
      "cell_type": "code",
      "source": [
        "def fibonacci(n):\n",
        "  if n <= 1:\n",
        "    return n\n",
        "\n",
        "  f_minus_2, f_minus_1 = 0, 1\n",
        "  for _ in range(1, n):\n",
        "    f = f_minus_2 + f_minus_1\n",
        "    f_minus_2, f_minus_1 = f_minus_1, f\n",
        "  return f_minus_1\n",
        "\n",
        "fibonacci(10)"
      ],
      "metadata": {
        "colab": {
          "base_uri": "https://localhost:8080/"
        },
        "id": "aHDBjHiEPXRL",
        "outputId": "9442bd62-38bd-441d-fcd3-7855633712de"
      },
      "execution_count": 3,
      "outputs": [
        {
          "output_type": "execute_result",
          "data": {
            "text/plain": [
              "55"
            ]
          },
          "metadata": {},
          "execution_count": 3
        }
      ]
    },
    {
      "cell_type": "code",
      "source": [
        "# %%fmt\n",
        "import time\n",
        "import math\n",
        "import numpy as np\n",
        "import matplotlib.pyplot as plt\n",
        "\n",
        "\n",
        "def time_cost_viz(f, nmax):\n",
        "\n",
        "    time_counts = []\n",
        "\n",
        "    ids = list(range(nmax))\n",
        "    start_time = time.perf_counter()\n",
        "\n",
        "    for id in ids:\n",
        "        start_time = time.perf_counter()\n",
        "        f(id)\n",
        "        end_time = time.perf_counter()\n",
        "        elapsed_time = end_time - start_time\n",
        "        time_counts.append(math.log10(elapsed_time))\n",
        "\n",
        "    x = np.array(ids)\n",
        "    y = np.array(time_counts)\n",
        "    plt.plot(x, y)"
      ],
      "metadata": {
        "id": "RaYnCSwBL_Db"
      },
      "execution_count": 4,
      "outputs": []
    },
    {
      "cell_type": "code",
      "source": [
        "time_cost_viz(fibonacci_dp, 10000)"
      ],
      "metadata": {
        "id": "ONS6n5TOQOYB",
        "colab": {
          "base_uri": "https://localhost:8080/",
          "height": 265
        },
        "outputId": "2b238a3f-7c07-49f3-bc02-e2605e5e3a14"
      },
      "execution_count": 5,
      "outputs": [
        {
          "output_type": "display_data",
          "data": {
            "text/plain": [
              "<Figure size 432x288 with 1 Axes>"
            ],
            "image/png": "[encoded data removed]"
          },
          "metadata": {
            "needs_background": "light"
          }
        }
      ]
    },
    {
      "cell_type": "code",
      "source": [
        "time_cost_viz(fibonacci, 10000)"
      ],
      "metadata": {
        "id": "MSSB6Jc8PxHI",
        "colab": {
          "base_uri": "https://localhost:8080/",
          "height": 265
        },
        "outputId": "35d5cb87-489d-4e82-cb9a-f98cce2850b9"
      },
      "execution_count": 6,
      "outputs": [
        {
          "output_type": "display_data",
          "data": {
            "text/plain": [
              "<Figure size 432x288 with 1 Axes>"
            ],
            "image/png": "[encoded data removed]"
          },
          "metadata": {
            "needs_background": "light"
          }
        }
      ]
    },
    {
      "cell_type": "markdown",
      "source": [
        "## traveling salesman problem\n",
        "\n",
        "- Dynamic programming\n",
        "- Reinforcement learning\n",
        "- Genetic algorithm\n",
        "- Dijkstra's algorithm"
      ],
      "metadata": {
        "id": "0N-oNVAD0knH"
      }
    },
    {
      "cell_type": "code",
      "source": [
        "%%capture\n",
        "!pip install networkx "
      ],
      "metadata": {
        "id": "GUgFxhG_0mO2"
      },
      "execution_count": 7,
      "outputs": []
    },
    {
      "cell_type": "code",
      "source": [
        "#%%fmt\n",
        "import math\n",
        "import networkx as nx\n",
        "import matplotlib.pyplot as plt\n",
        "\n",
        "G = nx.DiGraph()\n",
        "\n",
        "pos = {\n",
        "    0: (0, 1),\n",
        "    1: (math.cos(math.radians(18)), math.sin(math.radians(18))),\n",
        "    2: (math.sin(math.radians(36)), -math.cos(math.radians(36))),\n",
        "    3: (-math.sin(math.radians(36)), -math.cos(math.radians(36))),\n",
        "    4: (-math.cos(math.radians(18)), math.sin(math.radians(18))),\n",
        "}\n",
        "\n",
        "# path = (start, end, cost)\n",
        "paths = [(0, 1, 3), (2, 0, 4), (0, 3, 4), (4, 0, 7), (1, 2, 5), (4, 1, 6),\n",
        "         (2, 3, 5), (3, 4, 3)]\n",
        "G.add_weighted_edges_from(paths)\n",
        "\n",
        "nx.draw_networkx_labels(G, pos)\n",
        "\n",
        "# Draw only weight attribute as edge label.\n",
        "edge_labels = {(i, j): w['weight'] for i, j, w in G.edges(data=True)}\n",
        "nx.draw_networkx_edge_labels(G, pos, edge_labels=edge_labels)\n",
        "\n",
        "# Finish drawing.\n",
        "nx.draw(G, pos)\n",
        "\n",
        "# Display with Matplotlib.\n",
        "plt.axis('off')\n",
        "plt.show()"
      ],
      "metadata": {
        "id": "REZCf58P2FPx",
        "outputId": "bb7c9654-c0af-4ae5-925c-c6c94593346a",
        "colab": {
          "base_uri": "https://localhost:8080/",
          "height": 248
        }
      },
      "execution_count": 8,
      "outputs": [
        {
          "output_type": "display_data",
          "data": {
            "text/plain": [
              "<Figure size 432x288 with 1 Axes>"
            ],
            "image/png": "[encoded data removed]"
          },
          "metadata": {}
        }
      ]
    },
    {
      "cell_type": "markdown",
      "source": [
        "### Dijkstra's algorithm"
      ],
      "metadata": {
        "id": "NkZPa4mEC2o8"
      }
    },
    {
      "cell_type": "code",
      "source": [
        "%%time\n",
        "nx.dijkstra_path(G, 0, 4)"
      ],
      "metadata": {
        "id": "9_SUxOpbAa_n",
        "outputId": "89c728e9-8c41-42f0-9574-e8926cda6df8",
        "colab": {
          "base_uri": "https://localhost:8080/"
        }
      },
      "execution_count": 9,
      "outputs": [
        {
          "output_type": "stream",
          "name": "stdout",
          "text": [
            "CPU times: user 74 µs, sys: 3 µs, total: 77 µs\n",
            "Wall time: 80.6 µs\n"
          ]
        },
        {
          "output_type": "execute_result",
          "data": {
            "text/plain": [
              "[0, 3, 4]"
            ]
          },
          "metadata": {},
          "execution_count": 9
        }
      ]
    },
    {
      "cell_type": "markdown",
      "source": [
        "### Bellman–Ford algorithm"
      ],
      "metadata": {
        "id": "QnMBEl_qC6w2"
      }
    },
    {
      "cell_type": "code",
      "source": [
        "%%capture\n",
        "!pip install bellmanford\n",
        "import bellmanford as bf"
      ],
      "metadata": {
        "id": "6vyisDFsAtNz"
      },
      "execution_count": 10,
      "outputs": []
    },
    {
      "cell_type": "code",
      "source": [
        "%%time\n",
        "length, nodes, negative_cycle = bf.bellman_ford(G, source=0, target=4, weight='weight')\n",
        "nodes"
      ],
      "metadata": {
        "id": "R6gYMSMBAy4w",
        "outputId": "2d29d59f-80f0-4047-831b-52d593bdd27f",
        "colab": {
          "base_uri": "https://localhost:8080/"
        }
      },
      "execution_count": 11,
      "outputs": [
        {
          "output_type": "stream",
          "name": "stdout",
          "text": [
            "CPU times: user 175 µs, sys: 0 ns, total: 175 µs\n",
            "Wall time: 181 µs\n"
          ]
        }
      ]
    },
    {
      "cell_type": "markdown",
      "source": [
        "Reference\n",
        "- [Elements of Programming Interviews](https://www.amazon.co.jp/Elements-Programming-Interviews-Python-Insiders-ebook/dp/B09QX36QZQ/ref=sr_1_1?__mk_ja_JP=%E3%82%AB%E3%82%BF%E3%82%AB%E3%83%8A&crid=2HMROKFH0ZT5D&keywords=Elements+of+Programming+Interviews&qid=1649566675&s=digital-text&sprefix=elements+of+programming+interviews%2Cdigital-text%2C161&sr=1-1)\n",
        "- [現場で使える！Python深層強化学習入門 強化学習と深層学習による探索と制御](https://www.amazon.co.jp/%E7%8F%BE%E5%A0%B4%E3%81%A7%E4%BD%BF%E3%81%88%E3%82%8B%EF%BC%81Python%E6%B7%B1%E5%B1%A4%E5%BC%B7%E5%8C%96%E5%AD%A6%E7%BF%92%E5%85%A5%E9%96%80-%E5%BC%B7%E5%8C%96%E5%AD%A6%E7%BF%92%E3%81%A8%E6%B7%B1%E5%B1%A4%E5%AD%A6%E7%BF%92%E3%81%AB%E3%82%88%E3%82%8B%E6%8E%A2%E7%B4%A2%E3%81%A8%E5%88%B6%E5%BE%A1-%E4%BC%8A%E8%97%A4-%E5%A4%9A%E4%B8%80-ebook/dp/B07SVMGBZN/ref=tmm_kin_swatch_0?_encoding=UTF8&qid=&sr=)\n",
        "- [プログラミングコンテストチャレンジブック [第2版]　～問題解決のアルゴリズム活用力とコーディングテクニックを鍛える～](https://www.amazon.co.jp/%E3%83%97%E3%83%AD%E3%82%B0%E3%83%A9%E3%83%9F%E3%83%B3%E3%82%B0%E3%82%B3%E3%83%B3%E3%83%86%E3%82%B9%E3%83%88%E3%83%81%E3%83%A3%E3%83%AC%E3%83%B3%E3%82%B8%E3%83%96%E3%83%83%E3%82%AF-%E7%AC%AC2%E7%89%88-%EF%BD%9E%E5%95%8F%E9%A1%8C%E8%A7%A3%E6%B1%BA%E3%81%AE%E3%82%A2%E3%83%AB%E3%82%B4%E3%83%AA%E3%82%BA%E3%83%A0%E6%B4%BB%E7%94%A8%E5%8A%9B%E3%81%A8%E3%82%B3%E3%83%BC%E3%83%87%E3%82%A3%E3%83%B3%E3%82%B0%E3%83%86%E3%82%AF%E3%83%8B%E3%83%83%E3%82%AF%E3%82%92%E9%8D%9B%E3%81%88%E3%82%8B%EF%BD%9E-%E7%A7%8B%E8%91%89-%E6%8B%93%E5%93%89-ebook/dp/B00CY9256C/ref=sr_1_1?__mk_ja_JP=%E3%82%AB%E3%82%BF%E3%82%AB%E3%83%8A&crid=26ZVZ2CRNQYWL&keywords=%E3%83%97%E3%83%AD%E3%82%B0%E3%83%A9%E3%83%9F%E3%83%B3%E3%82%B0%E3%83%81%E3%83%A3%E3%83%AC%E3%83%B3%E3%82%B8%E3%83%96%E3%83%83%E3%82%AF&qid=1649566610&s=digital-text&sprefix=%E3%83%97%E3%83%AD%E3%82%B0%E3%83%A9%E3%83%9F%E3%83%B3%E3%82%B0%E3%83%81%E3%83%A3%E3%83%AC%E3%83%B3%E3%82%B8%E3%83%96%E3%83%83%E3%82%AF%2Cdigital-text%2C173&sr=1-1)\n",
        "- [遺伝的アルゴリズム・巡回セールスマン問題](https://mukai-lab.info/pages/classes/artificial_intelligence/chapter11/)\n",
        "- [Dijkstra 法による最短経路](https://showa-yojyo.github.io/notebook/python-networkx/practice.html#id5)\n",
        "- [Bellman–Ford algorithm](https://github.com/nelsonuhan/bellmanford)"
      ],
      "metadata": {
        "id": "R760ABFD05OD"
      }
    }
  ]
}