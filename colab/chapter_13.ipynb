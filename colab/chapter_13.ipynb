{
  "nbformat": 4,
  "nbformat_minor": 0,
  "metadata": {
    "colab": {
      "name": "chapter_13.ipynb",
      "provenance": [],
      "authorship_tag": "ABX9TyMe0a2k6ndFTOXS4unpiTGn",
      "include_colab_link": true
    },
    "kernelspec": {
      "name": "python3",
      "display_name": "Python 3"
    },
    "language_info": {
      "name": "python"
    }
  },
  "cells": [
    {
      "cell_type": "markdown",
      "metadata": {
        "id": "view-in-github",
        "colab_type": "text"
      },
      "source": [
        "<a href=\"https://colab.research.google.com/github/r-matsuzaka/practice-elements-of-programming/blob/main/colab/chapter_13.ipynb\" target=\"_parent\"><img src=\"https://colab.research.google.com/assets/colab-badge.svg\" alt=\"Open In Colab\"/></a>"
      ]
    },
    {
      "cell_type": "markdown",
      "source": [
        "# Chapter13 Dynamic Programming"
      ],
      "metadata": {
        "id": "9XRC1VXW8IpS"
      }
    },
    {
      "cell_type": "code",
      "source": [
        "%%capture\n",
        "!pip install yapf\n",
        "\n",
        "from IPython.core.magic import register_cell_magic\n",
        "from yapf.yapflib.yapf_api import FormatCode\n",
        "\n",
        "\n",
        "@register_cell_magic\n",
        "def fmt(line, cell):\n",
        "   \"\"\"\n",
        "   My formatter cell magic comannd.\n",
        "   Please install yapf before using this magic command.\n",
        "   \"\"\"\n",
        "   print(FormatCode(cell, style_config='pep8')[0])"
      ],
      "metadata": {
        "id": "C3lpbKE4Kph4"
      },
      "execution_count": null,
      "outputs": []
    },
    {
      "cell_type": "code",
      "source": [
        "!python -V"
      ],
      "metadata": {
        "colab": {
          "base_uri": "https://localhost:8080/"
        },
        "id": "3oMlm-JqTFUY",
        "outputId": "c4c14641-c216-4731-c388-6731bc261aaf"
      },
      "execution_count": null,
      "outputs": [
        {
          "output_type": "stream",
          "name": "stdout",
          "text": [
            "Python 3.9.5\n"
          ]
        }
      ]
    },
    {
      "cell_type": "code",
      "source": [
        "def fibonacci_dp(n, cache={}):\n",
        "  if n <= 1:\n",
        "    return n\n",
        "\n",
        "  elif n not in cache:\n",
        "    cache[n] = fibonacci_dp(n-1) + fibonacci_dp(n-2)\n",
        "  return cache[n]\n",
        "\n",
        "fibonacci_dp(10)"
      ],
      "metadata": {
        "colab": {
          "base_uri": "https://localhost:8080/"
        },
        "id": "vgbVSs3lKtO2",
        "outputId": "5267c45f-46bd-4113-da0e-2ed85140857a"
      },
      "execution_count": null,
      "outputs": [
        {
          "output_type": "execute_result",
          "data": {
            "text/plain": [
              "55"
            ]
          },
          "metadata": {},
          "execution_count": 3
        }
      ]
    },
    {
      "cell_type": "code",
      "source": [
        "def fibonacci(n):\n",
        "  if n <= 1:\n",
        "    return n\n",
        "\n",
        "  f_minus_2, f_minus_1 = 0, 1\n",
        "  for _ in range(1, n):\n",
        "    f = f_minus_2 + f_minus_1\n",
        "    f_minus_2, f_minus_1 = f_minus_1, f\n",
        "  return f_minus_1\n",
        "\n",
        "fibonacci(10)"
      ],
      "metadata": {
        "colab": {
          "base_uri": "https://localhost:8080/"
        },
        "id": "aHDBjHiEPXRL",
        "outputId": "408b550a-0426-48f6-9f8c-706d8ec8a147"
      },
      "execution_count": null,
      "outputs": [
        {
          "output_type": "execute_result",
          "data": {
            "text/plain": [
              "55"
            ]
          },
          "metadata": {},
          "execution_count": 4
        }
      ]
    },
    {
      "cell_type": "code",
      "source": [
        "# %%fmt\n",
        "import time\n",
        "import math\n",
        "import numpy as np\n",
        "import matplotlib.pyplot as plt\n",
        "\n",
        "\n",
        "def time_cost_viz(f, nmax):\n",
        "\n",
        "    time_counts = []\n",
        "\n",
        "    ids = list(range(nmax))\n",
        "    start_time = time.perf_counter()\n",
        "\n",
        "    for id in ids:\n",
        "        start_time = time.perf_counter()\n",
        "        f(id)\n",
        "        end_time = time.perf_counter()\n",
        "        elapsed_time = end_time - start_time\n",
        "        time_counts.append(math.log10(elapsed_time))\n",
        "\n",
        "    x = np.array(ids)\n",
        "    y = np.array(time_counts)\n",
        "    plt.plot(x, y)"
      ],
      "metadata": {
        "id": "RaYnCSwBL_Db"
      },
      "execution_count": null,
      "outputs": []
    },
    {
      "cell_type": "code",
      "source": [
        "time_cost_viz(fibonacci_dp, 10000)"
      ],
      "metadata": {
        "id": "ONS6n5TOQOYB",
        "colab": {
          "base_uri": "https://localhost:8080/",
          "height": 265
        },
        "outputId": "b0e72e61-84f4-4b62-b031-758a0eafc5bd"
      },
      "execution_count": null,
      "outputs": [
        {
          "output_type": "display_data",
          "data": {
            "text/plain": [
              "<Figure size 432x288 with 1 Axes>"
            ],
            "image/png": "[encoded data removed]"
          },
          "metadata": {
            "needs_background": "light"
          }
        }
      ]
    },
    {
      "cell_type": "code",
      "source": [
        "time_cost_viz(fibonacci, 10000)"
      ],
      "metadata": {
        "id": "MSSB6Jc8PxHI",
        "colab": {
          "base_uri": "https://localhost:8080/",
          "height": 265
        },
        "outputId": "2f3e4fe1-6a19-4a59-d595-8de1c9905aeb"
      },
      "execution_count": null,
      "outputs": [
        {
          "output_type": "display_data",
          "data": {
            "text/plain": [
              "<Figure size 432x288 with 1 Axes>"
            ],
            "image/png": "[encoded data removed]"
          },
          "metadata": {
            "needs_background": "light"
          }
        }
      ]
    }
  ]
}