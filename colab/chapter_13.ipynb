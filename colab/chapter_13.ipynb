{
  "nbformat": 4,
  "nbformat_minor": 0,
  "metadata": {
    "colab": {
      "name": "chapter_13.ipynb",
      "provenance": [],
      "authorship_tag": "ABX9TyPVhF4tBgzUQC9kwhObbGSa",
      "include_colab_link": true
    },
    "kernelspec": {
      "name": "python3",
      "display_name": "Python 3"
    },
    "language_info": {
      "name": "python"
    }
  },
  "cells": [
    {
      "cell_type": "markdown",
      "metadata": {
        "id": "view-in-github",
        "colab_type": "text"
      },
      "source": [
        "<a href=\"https://colab.research.google.com/github/r-matsuzaka/practice-elements-of-programming/blob/main/colab/chapter_13.ipynb\" target=\"_parent\"><img src=\"https://colab.research.google.com/assets/colab-badge.svg\" alt=\"Open In Colab\"/></a>"
      ]
    },
    {
      "cell_type": "markdown",
      "source": [
        "# Chapter13 Dynamic Programming"
      ],
      "metadata": {
        "id": "9XRC1VXW8IpS"
      }
    },
    {
      "cell_type": "code",
      "source": [
        "%%capture\n",
        "!pip install yapf\n",
        "\n",
        "from IPython.core.magic import register_cell_magic\n",
        "from yapf.yapflib.yapf_api import FormatCode\n",
        "\n",
        "\n",
        "@register_cell_magic\n",
        "def fmt(line, cell):\n",
        "   \"\"\"\n",
        "   My formatter cell magic comannd.\n",
        "   Please install yapf before using this magic command.\n",
        "   \"\"\"\n",
        "   print(FormatCode(cell, style_config='pep8')[0])"
      ],
      "metadata": {
        "id": "C3lpbKE4Kph4"
      },
      "execution_count": null,
      "outputs": []
    },
    {
      "cell_type": "code",
      "source": [
        "!python -V"
      ],
      "metadata": {
        "colab": {
          "base_uri": "https://localhost:8080/"
        },
        "id": "3oMlm-JqTFUY",
        "outputId": "2599c7f5-c8b3-4ee6-f469-a591a1826de6"
      },
      "execution_count": 16,
      "outputs": [
        {
          "output_type": "stream",
          "name": "stdout",
          "text": [
            "Python 3.9.5\n"
          ]
        }
      ]
    },
    {
      "cell_type": "code",
      "source": [
        "def fibonacci(n, cache={}):\n",
        "  if n <= 1:\n",
        "    return n\n",
        "\n",
        "  elif n not in cache:\n",
        "    cache[n] = fibonacci(n-1) + fibonacci(n-2)\n",
        "  return cache[n]\n",
        "\n",
        "fibonacci(10)"
      ],
      "metadata": {
        "colab": {
          "base_uri": "https://localhost:8080/"
        },
        "id": "vgbVSs3lKtO2",
        "outputId": "74db9b7c-d71f-47d3-8ee1-f7ea49c56c2e"
      },
      "execution_count": null,
      "outputs": [
        {
          "output_type": "execute_result",
          "data": {
            "text/plain": [
              "55"
            ]
          },
          "metadata": {},
          "execution_count": 5
        }
      ]
    },
    {
      "cell_type": "code",
      "source": [
        "def fibonacci_dp(n):\n",
        "  if n <= 1:\n",
        "    return n\n",
        "\n",
        "  f_minus_2, f_minus_1 = 0, 1\n",
        "  for _ in range(1, n):\n",
        "    f = f_minus_2 + f_minus_1\n",
        "    f_minus_2, f_minus_1 = f_minus_1, f\n",
        "  return f_minus_1\n",
        "\n",
        "fibonacci_dp(10)"
      ],
      "metadata": {
        "colab": {
          "base_uri": "https://localhost:8080/"
        },
        "id": "aHDBjHiEPXRL",
        "outputId": "298f26ca-c61f-456f-de71-aa2da2581d1e"
      },
      "execution_count": null,
      "outputs": [
        {
          "output_type": "execute_result",
          "data": {
            "text/plain": [
              "55"
            ]
          },
          "metadata": {},
          "execution_count": 6
        }
      ]
    },
    {
      "cell_type": "code",
      "source": [
        "dp = {}\n",
        "\n",
        "def fibonacci_dp(n):\n",
        "    if(n == 0 | n == 1):\n",
        "      return dp[n] := 1\n",
        "    if(dp[n] != 0): return dp[n]\n",
        "    return dp[n] := fib(n - 1) + fib(n - 2)"
      ],
      "metadata": {
        "colab": {
          "base_uri": "https://localhost:8080/",
          "height": 135
        },
        "id": "TR5h9xG2R7q9",
        "outputId": "1b2fe71f-7f4b-4b11-eca5-a99cba1870c0"
      },
      "execution_count": null,
      "outputs": [
        {
          "output_type": "error",
          "ename": "SyntaxError",
          "evalue": "ignored",
          "traceback": [
            "\u001b[0;36m  File \u001b[0;32m\"<ipython-input-7-e314162adde8>\"\u001b[0;36m, line \u001b[0;32m5\u001b[0m\n\u001b[0;31m    return dp[n] := 1\u001b[0m\n\u001b[0m                 ^\u001b[0m\n\u001b[0;31mSyntaxError\u001b[0m\u001b[0;31m:\u001b[0m invalid syntax\n"
          ]
        }
      ]
    },
    {
      "cell_type": "code",
      "source": [
        "# %%fmt\n",
        "import time\n",
        "import math\n",
        "import numpy as np\n",
        "import matplotlib.pyplot as plt\n",
        "\n",
        "\n",
        "def time_cost_viz(f, nmax):\n",
        "\n",
        "    time_counts = []\n",
        "\n",
        "    ids = list(range(nmax))\n",
        "    start_time = time.perf_counter()\n",
        "\n",
        "    for id in ids:\n",
        "        start_time = time.perf_counter()\n",
        "        f(id)\n",
        "        end_time = time.perf_counter()\n",
        "        elapsed_time = end_time - start_time\n",
        "        time_counts.append(math.log10(elapsed_time))\n",
        "\n",
        "    x = np.array(ids)\n",
        "    y = np.array(time_counts)\n",
        "    plt.plot(x, y)"
      ],
      "metadata": {
        "id": "RaYnCSwBL_Db"
      },
      "execution_count": null,
      "outputs": []
    },
    {
      "cell_type": "code",
      "source": [
        "time_cost_viz(fibonacci, 10000)"
      ],
      "metadata": {
        "id": "ONS6n5TOQOYB"
      },
      "execution_count": null,
      "outputs": []
    },
    {
      "cell_type": "code",
      "source": [
        "time_cost_viz(fibonacci_dp, 10000)"
      ],
      "metadata": {
        "id": "MSSB6Jc8PxHI"
      },
      "execution_count": null,
      "outputs": []
    },
    {
      "cell_type": "code",
      "source": [
        "import random\n",
        "\n",
        "def getvalue():\n",
        "    if random.random() > 0.2:\n",
        "        return 'OK'\n",
        "\n",
        "    return None\n",
        "\n",
        "if value := getvalue():\n",
        "    print(value)\n",
        "\n",
        "while value := getvalue():\n",
        "    print(value)"
      ],
      "metadata": {
        "colab": {
          "base_uri": "https://localhost:8080/",
          "height": 135
        },
        "id": "J6BnCqQtSl8E",
        "outputId": "25a2574c-c64f-41e0-8d31-6c34b9532eeb"
      },
      "execution_count": null,
      "outputs": [
        {
          "output_type": "error",
          "ename": "SyntaxError",
          "evalue": "ignored",
          "traceback": [
            "\u001b[0;36m  File \u001b[0;32m\"<ipython-input-5-eb35fbce2463>\"\u001b[0;36m, line \u001b[0;32m9\u001b[0m\n\u001b[0;31m    if value := getvalue():\u001b[0m\n\u001b[0m              ^\u001b[0m\n\u001b[0;31mSyntaxError\u001b[0m\u001b[0;31m:\u001b[0m invalid syntax\n"
          ]
        }
      ]
    },
    {
      "cell_type": "code",
      "source": [
        "array = [1,2,3,4,5,6,7]\n",
        "if (n := len(array)) > 5:\n",
        "    print(n)"
      ],
      "metadata": {
        "colab": {
          "base_uri": "https://localhost:8080/",
          "height": 135
        },
        "id": "4zPIpQckS3pQ",
        "outputId": "3617dc5b-897a-475d-8fb1-0bb7f6a5799d"
      },
      "execution_count": null,
      "outputs": [
        {
          "output_type": "error",
          "ename": "SyntaxError",
          "evalue": "ignored",
          "traceback": [
            "\u001b[0;36m  File \u001b[0;32m\"<ipython-input-6-c419f8d04d11>\"\u001b[0;36m, line \u001b[0;32m2\u001b[0m\n\u001b[0;31m    if (n := len(array)) > 5:\u001b[0m\n\u001b[0m          ^\u001b[0m\n\u001b[0;31mSyntaxError\u001b[0m\u001b[0;31m:\u001b[0m invalid syntax\n"
          ]
        }
      ]
    },
    {
      "cell_type": "code",
      "source": [
        "x = {\"key1\": \"value1 from x\", \"key2\": \"value2 from x\"}\n",
        "y = {\"key2\": \"value2 from y\", \"key3\": \"value3 from y\"}\n",
        "x | y"
      ],
      "metadata": {
        "colab": {
          "base_uri": "https://localhost:8080/",
          "height": 205
        },
        "id": "meY5Tzs-cAsA",
        "outputId": "477bb541-4c0f-4ad6-82d6-66b6514adda3"
      },
      "execution_count": null,
      "outputs": [
        {
          "output_type": "error",
          "ename": "TypeError",
          "evalue": "ignored",
          "traceback": [
            "\u001b[0;31m---------------------------------------------------------------------------\u001b[0m",
            "\u001b[0;31mTypeError\u001b[0m                                 Traceback (most recent call last)",
            "\u001b[0;32m<ipython-input-10-338129c79089>\u001b[0m in \u001b[0;36m<module>\u001b[0;34m()\u001b[0m\n\u001b[1;32m      1\u001b[0m \u001b[0mx\u001b[0m \u001b[0;34m=\u001b[0m \u001b[0;34m{\u001b[0m\u001b[0;34m\"key1\"\u001b[0m\u001b[0;34m:\u001b[0m \u001b[0;34m\"value1 from x\"\u001b[0m\u001b[0;34m,\u001b[0m \u001b[0;34m\"key2\"\u001b[0m\u001b[0;34m:\u001b[0m \u001b[0;34m\"value2 from x\"\u001b[0m\u001b[0;34m}\u001b[0m\u001b[0;34m\u001b[0m\u001b[0;34m\u001b[0m\u001b[0m\n\u001b[1;32m      2\u001b[0m \u001b[0my\u001b[0m \u001b[0;34m=\u001b[0m \u001b[0;34m{\u001b[0m\u001b[0;34m\"key2\"\u001b[0m\u001b[0;34m:\u001b[0m \u001b[0;34m\"value2 from y\"\u001b[0m\u001b[0;34m,\u001b[0m \u001b[0;34m\"key3\"\u001b[0m\u001b[0;34m:\u001b[0m \u001b[0;34m\"value3 from y\"\u001b[0m\u001b[0;34m}\u001b[0m\u001b[0;34m\u001b[0m\u001b[0;34m\u001b[0m\u001b[0m\n\u001b[0;32m----> 3\u001b[0;31m \u001b[0mx\u001b[0m \u001b[0;34m|\u001b[0m \u001b[0my\u001b[0m\u001b[0;34m\u001b[0m\u001b[0;34m\u001b[0m\u001b[0m\n\u001b[0m",
            "\u001b[0;31mTypeError\u001b[0m: unsupported operand type(s) for |: 'dict' and 'dict'"
          ]
        }
      ]
    }
  ]
}