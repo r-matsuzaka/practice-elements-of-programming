{
  "nbformat": 4,
  "nbformat_minor": 0,
  "metadata": {
    "colab": {
      "name": "chapter_13.ipynb",
      "provenance": [],
      "authorship_tag": "ABX9TyO6gC+O6UZzbjFT71IlKyhy",
      "include_colab_link": true
    },
    "kernelspec": {
      "name": "python3",
      "display_name": "Python 3"
    },
    "language_info": {
      "name": "python"
    }
  },
  "cells": [
    {
      "cell_type": "markdown",
      "metadata": {
        "id": "view-in-github",
        "colab_type": "text"
      },
      "source": [
        "<a href=\"https://colab.research.google.com/github/r-matsuzaka/practice-elements-of-programming/blob/main/colab/chapter_13.ipynb\" target=\"_parent\"><img src=\"https://colab.research.google.com/assets/colab-badge.svg\" alt=\"Open In Colab\"/></a>"
      ]
    },
    {
      "cell_type": "markdown",
      "source": [
        "# Chapter13 Dynamic Programming"
      ],
      "metadata": {
        "id": "9XRC1VXW8IpS"
      }
    },
    {
      "cell_type": "code",
      "source": [
        "%%capture\n",
        "!pip install yapf\n",
        "\n",
        "from IPython.core.magic import register_cell_magic\n",
        "from yapf.yapflib.yapf_api import FormatCode\n",
        "\n",
        "\n",
        "@register_cell_magic\n",
        "def fmt(line, cell):\n",
        "   \"\"\"\n",
        "   My formatter cell magic comannd.\n",
        "   Please install yapf before using this magic command.\n",
        "   \"\"\"\n",
        "   print(FormatCode(cell, style_config='pep8')[0])"
      ],
      "metadata": {
        "id": "C3lpbKE4Kph4"
      },
      "execution_count": 1,
      "outputs": []
    },
    {
      "cell_type": "markdown",
      "source": [
        "## Problem1: Fibonacci number"
      ],
      "metadata": {
        "id": "3fVnYSPY8e8X"
      }
    },
    {
      "cell_type": "code",
      "source": [
        "def fibonacci_dp(n, cache={}):\n",
        "  if n <= 1:\n",
        "    return n\n",
        "\n",
        "  elif n not in cache:\n",
        "    cache[n] = fibonacci_dp(n-1) + fibonacci_dp(n-2)\n",
        "  return cache[n]\n",
        "\n",
        "fibonacci_dp(10)"
      ],
      "metadata": {
        "colab": {
          "base_uri": "https://localhost:8080/"
        },
        "id": "vgbVSs3lKtO2",
        "outputId": "0421ac95-2ada-4d2e-9752-2caa2b5c8f54"
      },
      "execution_count": 2,
      "outputs": [
        {
          "output_type": "execute_result",
          "data": {
            "text/plain": [
              "55"
            ]
          },
          "metadata": {},
          "execution_count": 2
        }
      ]
    },
    {
      "cell_type": "code",
      "source": [
        "def fibonacci(n):\n",
        "  if n <= 1:\n",
        "    return n\n",
        "\n",
        "  f_minus_2, f_minus_1 = 0, 1\n",
        "  for _ in range(1, n):\n",
        "    f = f_minus_2 + f_minus_1\n",
        "    f_minus_2, f_minus_1 = f_minus_1, f\n",
        "  return f_minus_1\n",
        "\n",
        "fibonacci(10)"
      ],
      "metadata": {
        "colab": {
          "base_uri": "https://localhost:8080/"
        },
        "id": "aHDBjHiEPXRL",
        "outputId": "af9916d6-28de-4ec9-8f6d-cac887c84b6d"
      },
      "execution_count": 3,
      "outputs": [
        {
          "output_type": "execute_result",
          "data": {
            "text/plain": [
              "55"
            ]
          },
          "metadata": {},
          "execution_count": 3
        }
      ]
    },
    {
      "cell_type": "code",
      "source": [
        "# %%fmt\n",
        "import time\n",
        "import math\n",
        "import numpy as np\n",
        "import matplotlib.pyplot as plt\n",
        "\n",
        "\n",
        "def time_cost_viz(f, nmax):\n",
        "\n",
        "    time_counts = []\n",
        "\n",
        "    ids = list(range(nmax))\n",
        "    start_time = time.perf_counter()\n",
        "\n",
        "    for id in ids:\n",
        "        start_time = time.perf_counter()\n",
        "        f(id)\n",
        "        end_time = time.perf_counter()\n",
        "        elapsed_time = end_time - start_time\n",
        "        time_counts.append(math.log10(elapsed_time))\n",
        "\n",
        "    x = np.array(ids)\n",
        "    y = np.array(time_counts)\n",
        "    plt.plot(x, y)"
      ],
      "metadata": {
        "id": "RaYnCSwBL_Db"
      },
      "execution_count": 4,
      "outputs": []
    },
    {
      "cell_type": "code",
      "source": [
        "time_cost_viz(fibonacci_dp, 10000)"
      ],
      "metadata": {
        "id": "ONS6n5TOQOYB",
        "colab": {
          "base_uri": "https://localhost:8080/",
          "height": 265
        },
        "outputId": "0b19a284-c776-4e94-b1b2-5e147872abac"
      },
      "execution_count": 5,
      "outputs": [
        {
          "output_type": "display_data",
          "data": {
            "text/plain": [
              "<Figure size 432x288 with 1 Axes>"
            ],
            "image/png": "[encoded data removed]"
          },
          "metadata": {
            "needs_background": "light"
          }
        }
      ]
    },
    {
      "cell_type": "code",
      "source": [
        "time_cost_viz(fibonacci, 10000)"
      ],
      "metadata": {
        "id": "MSSB6Jc8PxHI",
        "colab": {
          "base_uri": "https://localhost:8080/",
          "height": 265
        },
        "outputId": "1fe45025-d983-4e6b-f624-6fea81c04361"
      },
      "execution_count": 6,
      "outputs": [
        {
          "output_type": "display_data",
          "data": {
            "text/plain": [
              "<Figure size 432x288 with 1 Axes>"
            ],
            "image/png": "[encoded data removed]"
          },
          "metadata": {
            "needs_background": "light"
          }
        }
      ]
    },
    {
      "cell_type": "markdown",
      "source": [
        "## Problem2: Shortest path\n",
        "\n",
        "- [x] Dijkstra's algorithm  \n",
        "- [x] Bellman–Ford algorithm  \n",
        "- [x] Floyd–Warshall Algorithm  "
      ],
      "metadata": {
        "id": "0N-oNVAD0knH"
      }
    },
    {
      "cell_type": "code",
      "source": [
        "%%capture\n",
        "!pip install networkx "
      ],
      "metadata": {
        "id": "GUgFxhG_0mO2"
      },
      "execution_count": 7,
      "outputs": []
    },
    {
      "cell_type": "code",
      "source": [
        "#%%fmt\n",
        "import math\n",
        "import networkx as nx\n",
        "import matplotlib.pyplot as plt\n",
        "\n",
        "G = nx.DiGraph()\n",
        "\n",
        "pos = {\n",
        "    0: (0, 1),\n",
        "    1: (math.cos(math.radians(18)), math.sin(math.radians(18))),\n",
        "    2: (math.sin(math.radians(36)), -math.cos(math.radians(36))),\n",
        "    3: (-math.sin(math.radians(36)), -math.cos(math.radians(36))),\n",
        "    4: (-math.cos(math.radians(18)), math.sin(math.radians(18))),\n",
        "}\n",
        "\n",
        "# path = (start, end, cost)\n",
        "paths = [(0, 1, 3), (2, 0, 4), (0, 3, 4), (4, 0, 7), (1, 2, 5), (4, 1, 6),\n",
        "         (2, 3, 5), (3, 4, 3)]\n",
        "# paths = [(0, 1, 3), (2, 0, 4), (0, 3, 4), (4, 0, 7), (4, 1, 6),\n",
        "#          (2, 3, 5), (3, 4, 3)]\n",
        "G.add_weighted_edges_from(paths)\n",
        "\n",
        "nx.draw_networkx_labels(G, pos)\n",
        "\n",
        "# Draw only weight attribute as edge label.\n",
        "edge_labels = {(i, j): w['weight'] for i, j, w in G.edges(data=True)}\n",
        "nx.draw_networkx_edge_labels(G, pos, edge_labels=edge_labels)\n",
        "\n",
        "# Finish drawing.\n",
        "nx.draw(G, pos)\n",
        "\n",
        "# Display with Matplotlib.\n",
        "plt.axis('off')\n",
        "plt.show()"
      ],
      "metadata": {
        "colab": {
          "base_uri": "https://localhost:8080/",
          "height": 248
        },
        "id": "REZCf58P2FPx",
        "outputId": "8cfc7765-899c-4a74-b49a-25152091c530"
      },
      "execution_count": 8,
      "outputs": [
        {
          "output_type": "display_data",
          "data": {
            "text/plain": [
              "<Figure size 432x288 with 1 Axes>"
            ],
            "image/png": "[encoded data removed]"
          },
          "metadata": {}
        }
      ]
    },
    {
      "cell_type": "markdown",
      "source": [
        "### Dijkstra's algorithm"
      ],
      "metadata": {
        "id": "NkZPa4mEC2o8"
      }
    },
    {
      "cell_type": "code",
      "source": [
        "%%time\n",
        "nx.dijkstra_path(G, 0, 4)"
      ],
      "metadata": {
        "colab": {
          "base_uri": "https://localhost:8080/"
        },
        "id": "9_SUxOpbAa_n",
        "outputId": "8ced4347-f586-43af-ffa3-81d7871b0ff5"
      },
      "execution_count": 9,
      "outputs": [
        {
          "output_type": "stream",
          "name": "stdout",
          "text": [
            "CPU times: user 83 µs, sys: 0 ns, total: 83 µs\n",
            "Wall time: 88.5 µs\n"
          ]
        },
        {
          "output_type": "execute_result",
          "data": {
            "text/plain": [
              "[0, 3, 4]"
            ]
          },
          "metadata": {},
          "execution_count": 9
        }
      ]
    },
    {
      "cell_type": "markdown",
      "source": [
        "### Bellman–Ford algorithm"
      ],
      "metadata": {
        "id": "QnMBEl_qC6w2"
      }
    },
    {
      "cell_type": "code",
      "source": [
        "%%time\n",
        "nx.bellman_ford_path(G, 0, 4)"
      ],
      "metadata": {
        "id": "yAONIFaTf4d2",
        "outputId": "0202b23c-01fc-4323-8b7f-a37e4b7d7a18",
        "colab": {
          "base_uri": "https://localhost:8080/"
        }
      },
      "execution_count": 10,
      "outputs": [
        {
          "output_type": "stream",
          "name": "stdout",
          "text": [
            "CPU times: user 181 µs, sys: 5 µs, total: 186 µs\n",
            "Wall time: 192 µs\n"
          ]
        },
        {
          "output_type": "execute_result",
          "data": {
            "text/plain": [
              "[0, 3, 4]"
            ]
          },
          "metadata": {},
          "execution_count": 10
        }
      ]
    },
    {
      "cell_type": "markdown",
      "source": [
        "### Floyd–Warshall Algorithm"
      ],
      "metadata": {
        "id": "G1998S4Qk7_N"
      }
    },
    {
      "cell_type": "code",
      "source": [
        "# %%fmt\n",
        "# https://github.com/OpenWeavers/openanalysis/blob/master/analysistest/matrix_dp.py\n",
        "\n",
        "import matplotlib.animation as animation\n",
        "import matplotlib.patches as patches\n",
        "\n",
        "\n",
        "class MatrixAnimator:\n",
        "    \"Class for animating Dynamic Programming based graph algorithms\"\n",
        "\n",
        "    def __init__(self,\n",
        "                 fn,\n",
        "                 G,\n",
        "                 pos=None,\n",
        "                 weights=True,\n",
        "                 labels=True,\n",
        "                 matrix_lables=True,\n",
        "                 node_size=300):\n",
        "        \"\"\"\n",
        "        Initializes Matrix animator instance\n",
        "        :param fn: A function taking graph as input, and yields Matrix,(i,j,k) tuple\n",
        "        :param G: Graph to be analyzed\n",
        "        :param pos: Position to draw graph. If None, graphviz layout is used\n",
        "        :param weights: Weather to draw edge labels\n",
        "        :param labels: Weather to draw node labels\n",
        "        :param matrix_lables: Weather to draw matrix values\n",
        "        :param node_size: Determines size of node\n",
        "        \"\"\"\n",
        "        self.fig, (self.ax1, self.ax2, self.ax3) = plt.subplots(1,\n",
        "                                                                3,\n",
        "                                                                figsize=(16,\n",
        "                                                                         9))\n",
        "        self.fig.suptitle(fn.__name__ + ' algorithm')\n",
        "        self.ax1.set_title(\"Graph G\")\n",
        "        self.ax2.set_title(\"Adjacency Matrix M\")\n",
        "        self.ax3.set_title(\"Final Matrix R\")\n",
        "        self.ax1.axis('off')\n",
        "\n",
        "        self.frames = []\n",
        "        self.active_cells = []\n",
        "        self.active = []\n",
        "        self.graph = G\n",
        "        self.img = None\n",
        "        self.lables = []\n",
        "        self.fn = fn\n",
        "        self.pos = pos\n",
        "        self.weights = weights\n",
        "        self.lables = labels\n",
        "        self.matrix_labels = matrix_lables\n",
        "        self.node_size = node_size\n",
        "\n",
        "    @staticmethod\n",
        "    def __plot_matrix_labels(matrix, axis):\n",
        "        labels = []\n",
        "        n, m = matrix.shape\n",
        "        for i in range(n):\n",
        "            for j in range(m):\n",
        "                t = axis.text(i,\n",
        "                              j,\n",
        "                              str(matrix[i, j]),\n",
        "                              va='center',\n",
        "                              ha='center')\n",
        "                labels.append(t)\n",
        "        return labels\n",
        "\n",
        "    def __update(self, i):\n",
        "        # global img,fun\n",
        "        if self.matrix_labels:\n",
        "            l = np.transpose(self.frames[i]).flatten().astype(str)\n",
        "            for k, old_label in enumerate(self.lables):\n",
        "                old_label.set_text(l[k])\n",
        "        self.img.set_data(self.frames[i])\n",
        "        j, i, k = self.active[i]\n",
        "        self.active_cells[0].set_xy((\n",
        "            i - 0.5,\n",
        "            k - 0.5,\n",
        "        ))\n",
        "        self.active_cells[1].set_xy((k - 0.5, j - 0.5))\n",
        "        self.active_cells[2].set_xy((i - 0.5, j - 0.5))\n",
        "        return self.img, self.lables, self.active_cells\n",
        "\n",
        "    def __init_animation(self):\n",
        "        masked_array = np.ma.array(self.frames[0],\n",
        "                                   mask=np.isinf(self.frames[0]))\n",
        "        vmin = 0\n",
        "        vmax = np.max(\n",
        "            np.ma.array(self.frames[-1], mask=np.isinf(self.frames[-1])))\n",
        "        from mpl_toolkits.axes_grid1 import make_axes_locatable\n",
        "        div = make_axes_locatable(self.ax2)\n",
        "        cax = div.append_axes('right', '5%', '5%')\n",
        "        cax.axis('off')\n",
        "        div = make_axes_locatable(self.ax3)\n",
        "        cax = div.append_axes('right', '5%', '5%')\n",
        "        self.img = self.ax3.imshow(masked_array,\n",
        "                                   interpolation='nearest',\n",
        "                                   vmin=vmin,\n",
        "                                   vmax=vmax,\n",
        "                                   alpha=0.7)\n",
        "        if self.matrix_labels:\n",
        "            self.lables = self.__plot_matrix_labels(self.frames[0], self.ax3)\n",
        "        else:\n",
        "            self.lables = []\n",
        "        self.fig.colorbar(self.img, cax=cax)\n",
        "        self.active_cells.append(\n",
        "            self.ax3.add_patch(\n",
        "                patches.Rectangle((0, 0),\n",
        "                                  1,\n",
        "                                  1,\n",
        "                                  fill=False,\n",
        "                                  linestyle='--',\n",
        "                                  color='k',\n",
        "                                  linewidth=3)))\n",
        "        self.active_cells.append(\n",
        "            self.ax3.add_patch(\n",
        "                patches.Rectangle((0, 0),\n",
        "                                  1,\n",
        "                                  1,\n",
        "                                  fill=False,\n",
        "                                  linestyle='--',\n",
        "                                  color='k',\n",
        "                                  linewidth=3)))\n",
        "        self.active_cells.append(\n",
        "            self.ax3.add_patch(\n",
        "                patches.Rectangle((0, 0),\n",
        "                                  1,\n",
        "                                  1,\n",
        "                                  fill=False,\n",
        "                                  linestyle='-',\n",
        "                                  color='k',\n",
        "                                  linewidth=3)))\n",
        "        return self.lables + [self.img]\n",
        "\n",
        "    def animate(self, save=False):\n",
        "        \"\"\"\n",
        "        Animates the Given algorithm with given Graph\n",
        "        :param save: Boolean indicating weather output has to be written into output/\n",
        "        \"\"\"\n",
        "        result = self.fn(self.graph)\n",
        "        for matrix, active in result:\n",
        "            self.frames.append(matrix)\n",
        "            self.active.append(active)\n",
        "        # Draw the original matrix\n",
        "        if self.pos is None:\n",
        "            self.pos = nx.nx_pydot.graphviz_layout(self.graph)\n",
        "        nx.draw_networkx_nodes(self.graph,\n",
        "                               self.pos,\n",
        "                               ax=self.ax1,\n",
        "                               node_color='g',\n",
        "                               alpha=0.8,\n",
        "                               node_size=self.node_size).set_edgecolor('k')\n",
        "        nx.draw_networkx_edges(self.graph, self.pos, ax=self.ax1, alpha=0.6)\n",
        "        if self.weights:\n",
        "            nx.draw_networkx_edge_labels(self.graph,\n",
        "                                         self.pos,\n",
        "                                         ax=self.ax1,\n",
        "                                         edge_labels=nx.get_edge_attributes(\n",
        "                                             self.graph, 'weight'))\n",
        "        if self.lables:\n",
        "            nx.draw_networkx_labels(self.graph, self.pos, ax=self.ax1)\n",
        "        # Draw its adjacancy matrix\n",
        "        vmin = 0\n",
        "        vmax = np.max(\n",
        "            np.ma.array(self.frames[-1], mask=np.isinf(self.frames[-1])))\n",
        "        cmap = plt.get_cmap('jet')\n",
        "        cmap.set_bad('white', 1.)\n",
        "        masked_array = np.ma.array(self.frames[0],\n",
        "                                   mask=np.isinf(self.frames[0]))\n",
        "        self.ax2.imshow(masked_array,\n",
        "                        interpolation='nearest',\n",
        "                        vmin=vmin,\n",
        "                        vmax=vmax,\n",
        "                        alpha=0.7)\n",
        "        if self.matrix_labels:\n",
        "            self.__plot_matrix_labels(self.frames[0], self.ax2)\n",
        "        # Now start the animation\n",
        "        x = animation.FuncAnimation(self.fig,\n",
        "                                    self.__update,\n",
        "                                    interval=1000,\n",
        "                                    blit=False,\n",
        "                                    repeat=False,\n",
        "                                    init_func=self.__init_animation,\n",
        "                                    frames=len(self.frames))\n",
        "        if save:\n",
        "            import errno\n",
        "            import os\n",
        "            path = \"output\"\n",
        "            try:\n",
        "                os.makedirs(path)\n",
        "            except OSError as exc:\n",
        "                if exc.errno == errno.EEXIST and os.path.isdir(path):\n",
        "                    pass\n",
        "                else:\n",
        "                    raise\n",
        "            Writer = animation.writers['ffmpeg']\n",
        "            writer = Writer(fps=1, metadata=dict(artist='V'), bitrate=1800)\n",
        "            from multiprocessing import Process\n",
        "            import os\n",
        "            path = os.path.join('output', '%s.mp4' % self.fn.__name__)\n",
        "            Process(target=x.save, args=(path, ), kwargs={\n",
        "                'writer': writer\n",
        "            }).start()\n",
        "        plt.show()\n",
        "\n",
        "    def apply_to_graph(self, show_graph=True):\n",
        "        \"\"\"\n",
        "        Applies the given algorithm to given graph and displays it\n",
        "        :param show_graph: Weather to show the graph in final result or not\n",
        "        \"\"\"\n",
        "        # Draw the original matrix\n",
        "        if show_graph:\n",
        "            if self.pos is None:\n",
        "                self.pos = nx.nx_pydot.graphviz_layout(self.graph)\n",
        "            nx.draw_networkx_nodes(self.graph,\n",
        "                                   self.pos,\n",
        "                                   ax=self.ax1,\n",
        "                                   node_color='g',\n",
        "                                   alpha=0.8,\n",
        "                                   node_size=self.node_size).set_edgecolor('k')\n",
        "            nx.draw_networkx_edges(self.graph,\n",
        "                                   self.pos,\n",
        "                                   ax=self.ax1,\n",
        "                                   alpha=0.5)\n",
        "            if self.weights:\n",
        "                nx.draw_networkx_edge_labels(\n",
        "                    self.graph,\n",
        "                    self.pos,\n",
        "                    ax=self.ax1,\n",
        "                    edge_labels=nx.get_edge_attributes(self.graph, 'weight'))\n",
        "            if self.lables:\n",
        "                nx.draw_networkx_labels(self.graph, self.pos, ax=self.ax1)\n",
        "        # Draw its adjacancy matrix\n",
        "        result, adj = None, None\n",
        "        for i, matrix in enumerate(self.fn(self.graph)):\n",
        "            if i == 0:\n",
        "                adj = matrix[0]\n",
        "            result = matrix[0]\n",
        "        cmap = plt.get_cmap('jet')\n",
        "        cmap.set_bad('white', 1.)\n",
        "        vmin = 0\n",
        "        vmax = np.max(result)\n",
        "        from mpl_toolkits.axes_grid1 import make_axes_locatable\n",
        "        div = make_axes_locatable(self.ax2)\n",
        "        cax = div.append_axes('right', '5%', '5%')\n",
        "        cax.axis('off')\n",
        "        masked_array = np.ma.array(adj, mask=np.isinf(adj))\n",
        "        self.ax2.imshow(masked_array,\n",
        "                        interpolation='nearest',\n",
        "                        cmap=cmap,\n",
        "                        vmin=vmin,\n",
        "                        vmax=vmax)\n",
        "        if self.matrix_labels:\n",
        "            self.__plot_matrix_labels(adj, self.ax2)\n",
        "        # Now draw the final matrix\n",
        "        masked_array = np.ma.array(result, mask=np.isinf(result))\n",
        "        div = make_axes_locatable(self.ax3)\n",
        "        cax = div.append_axes('right', '5%', '5%')\n",
        "        if self.matrix_labels:\n",
        "            self.__plot_matrix_labels(result, self.ax3)\n",
        "        self.img = self.ax3.imshow(masked_array,\n",
        "                                   interpolation='nearest',\n",
        "                                   cmap=cmap,\n",
        "                                   vmin=vmin,\n",
        "                                   vmax=vmax)\n",
        "        self.fig.colorbar(self.img, cax=cax)\n",
        "        plt.show()\n",
        "\n",
        "\n",
        "def Floyd_Warshall(G):\n",
        "    D = nx.to_numpy_matrix(G)\n",
        "    m, n = D.shape\n",
        "    for i in range(0, n):\n",
        "        for j in range(0, n):\n",
        "            if i != j and D[i, j] == 0:\n",
        "                D[i, j] = float('inf')\n",
        "    yield np.array(D), (0, 0, 0)\n",
        "    for k in range(0, n):\n",
        "        for i in range(0, n):\n",
        "            for j in range(0, n):\n",
        "                if D[i, j] > D[i, k] + D[k, j]:\n",
        "                    yield np.array(D), (i, j, k)\n",
        "                    D[i, j] = D[i, k] + D[k, j]\n",
        "    yield np.array(D), (0, 0, 0)\n",
        "\n",
        "\n",
        "# animation is saved in output/Floyd_Warshall.mp4\n",
        "# MatrixAnimator(Floyd_Warshall, G).animate(True)\n",
        "\n",
        "MatrixAnimator(Floyd_Warshall, G).apply_to_graph(True)"
      ],
      "metadata": {
        "id": "-xmc83jwlny2",
        "outputId": "1e8aa8b4-ff4e-4fcf-ffd2-b3dc516469a6",
        "colab": {
          "base_uri": "https://localhost:8080/",
          "height": 585
        }
      },
      "execution_count": 11,
      "outputs": [
        {
          "output_type": "display_data",
          "data": {
            "text/plain": [
              "<Figure size 1152x648 with 5 Axes>"
            ],
            "image/png": "[encoded data removed]"
          },
          "metadata": {
            "needs_background": "light"
          }
        }
      ]
    },
    {
      "cell_type": "markdown",
      "source": [
        "## Problem3: Traveling salesman problem\n",
        "\n",
        "- [x] Genetic algorithm  \n",
        "- [ ] Reinforcement learning  "
      ],
      "metadata": {
        "id": "oTGLVyiCv7Hm"
      }
    },
    {
      "cell_type": "markdown",
      "source": [
        "### Genetic algorithm"
      ],
      "metadata": {
        "id": "SFV4PzgdL_Dp"
      }
    },
    {
      "cell_type": "code",
      "source": [
        "%%capture\n",
        "!pip install simpleai"
      ],
      "metadata": {
        "id": "xyXOL4bOF9jD"
      },
      "execution_count": 12,
      "outputs": []
    },
    {
      "cell_type": "code",
      "source": [
        "import random\n",
        "import copy\n",
        "from simpleai.search import SearchProblem\n",
        "from simpleai.search.local import genetic"
      ],
      "metadata": {
        "id": "CfWdkT-DF7XG"
      },
      "execution_count": 13,
      "outputs": []
    },
    {
      "cell_type": "code",
      "source": [
        "# グラフの初期化\n",
        "G2 = nx.Graph()\n",
        "\n",
        "# ノード\n",
        "nodes = [\"A\", \"B\", \"C\", \"D\", \"E\", \"F\", \"G\", \"H\", \"I\", \"J\"]\n",
        "\n",
        "# ノードの位置\n",
        "pos ={\n",
        "  \"A\": (17, 72),\n",
        "  \"B\": (97, 8),\n",
        "  \"C\": (32, 15),\n",
        "  \"D\": (63, 97),\n",
        "  \"E\": (57, 60),\n",
        "  \"F\": (83, 48),\n",
        "  \"G\": (100, 26),\n",
        "  \"H\": (12, 62),\n",
        "  \"I\": (3, 49),\n",
        "  \"J\": (55, 77)\n",
        "}\n",
        "\n",
        "# 経路\n",
        "route = [(\"A\", \"B\"), (\"B\", \"C\"), (\"C\", \"D\"), (\"D\", \"E\"), (\"E\", \"F\"), (\"F\", \"G\"), (\"G\", \"H\"), (\"H\", \"I\"), (\"I\", \"J\"), (\"J\", \"A\")]\n",
        "G2.add_edges_from(route)\n",
        "\n",
        "# 描画\n",
        "nx.draw(G2, pos=pos, with_labels=True)"
      ],
      "metadata": {
        "colab": {
          "base_uri": "https://localhost:8080/",
          "height": 319
        },
        "id": "mPgVjq0eGE_6",
        "outputId": "9b2ab09c-deb8-4673-87cf-f242f7587e48"
      },
      "execution_count": 14,
      "outputs": [
        {
          "output_type": "display_data",
          "data": {
            "text/plain": [
              "<Figure size 432x288 with 1 Axes>"
            ],
            "image/png": "[encoded data removed]"
          },
          "metadata": {}
        }
      ]
    },
    {
      "cell_type": "code",
      "source": [
        "def toGene(route):\n",
        "\n",
        "  destinations = list(copy.deepcopy(G2.nodes))\n",
        "  gene = []\n",
        "\n",
        "  for edge in route:\n",
        "    index = destinations.index(edge[0])\n",
        "    destinations.pop(index)\n",
        "    gene.append(index)\n",
        "\n",
        "  return gene\n",
        "\n",
        "gene = toGene(route)\n",
        "print(gene)"
      ],
      "metadata": {
        "colab": {
          "base_uri": "https://localhost:8080/"
        },
        "id": "OxAUq7bRGGWR",
        "outputId": "7d4e4ddd-08d6-4018-885e-97a2eb689844"
      },
      "execution_count": 15,
      "outputs": [
        {
          "output_type": "stream",
          "name": "stdout",
          "text": [
            "[0, 0, 0, 0, 0, 0, 0, 0, 0, 0]\n"
          ]
        }
      ]
    },
    {
      "cell_type": "code",
      "source": [
        "# 個体（遺伝子）から経路へ\n",
        "def toRoute(gene):\n",
        "  destinations = list(copy.deepcopy(G2.nodes))\n",
        "  nodes = []\n",
        "\n",
        "  for index in gene:\n",
        "    node = destinations[index]\n",
        "    destinations.pop(index)\n",
        "    nodes.append(node)\n",
        "\n",
        "  route = []\n",
        "\n",
        "  for i, node in enumerate(nodes):\n",
        "    edge = ((nodes[i], nodes[(i+1) % len(nodes)]))\n",
        "    route.append(edge)\n",
        "\n",
        "  return route\n",
        "\n",
        "route = toRoute(gene)\n",
        "print(route)"
      ],
      "metadata": {
        "colab": {
          "base_uri": "https://localhost:8080/"
        },
        "id": "rdpX4edPGJ2L",
        "outputId": "ece82d8c-9610-450c-f6ed-0ccfe298b839"
      },
      "execution_count": 16,
      "outputs": [
        {
          "output_type": "stream",
          "name": "stdout",
          "text": [
            "[('A', 'B'), ('B', 'C'), ('C', 'D'), ('D', 'E'), ('E', 'F'), ('F', 'G'), ('G', 'H'), ('H', 'I'), ('I', 'J'), ('J', 'A')]\n"
          ]
        }
      ]
    },
    {
      "cell_type": "code",
      "source": [
        "# ランダムに個体を生成\n",
        "def randomGene():\n",
        "    destinations = list(copy.deepcopy(G2.nodes))\n",
        "    gene = []\n",
        "\n",
        "    for i in range(len(destinations)):\n",
        "      node = random.choice(destinations)\n",
        "      index = destinations.index(node)\n",
        "      destinations.pop(index)\n",
        "      gene.append(index)\n",
        "\n",
        "    return gene\n",
        "\n",
        "gene = randomGene()\n",
        "print(gene)\n",
        "print(toRoute(gene))"
      ],
      "metadata": {
        "colab": {
          "base_uri": "https://localhost:8080/"
        },
        "id": "89QqjHfAGOq_",
        "outputId": "79d092bf-b929-4dee-c1ad-dc42e5d2b7f7"
      },
      "execution_count": 17,
      "outputs": [
        {
          "output_type": "stream",
          "name": "stdout",
          "text": [
            "[0, 0, 4, 3, 1, 1, 1, 2, 1, 0]\n",
            "[('A', 'B'), ('B', 'G'), ('G', 'F'), ('F', 'D'), ('D', 'E'), ('E', 'H'), ('H', 'J'), ('J', 'I'), ('I', 'C'), ('C', 'A')]\n"
          ]
        }
      ]
    },
    {
      "cell_type": "code",
      "source": [
        "# 経路距離\n",
        "def distance(route):\n",
        "  d = 0\n",
        "\n",
        "  for edge in route:\n",
        "    pos_head = np.array(pos[edge[0]])\n",
        "    pos_tail = np.array(pos[edge[1]])\n",
        "    d += np.linalg.norm(pos_tail - pos_head)\n",
        "\n",
        "  return d\n",
        "\n",
        "d = distance(route)\n",
        "print(f\"distance={d}\")"
      ],
      "metadata": {
        "colab": {
          "base_uri": "https://localhost:8080/"
        },
        "id": "Y5G6B9RVGSJl",
        "outputId": "a45c60fd-9a20-4730-e3e1-ec74cb4b5879"
      },
      "execution_count": 18,
      "outputs": [
        {
          "output_type": "stream",
          "name": "stdout",
          "text": [
            "distance=557.6889363201603\n"
          ]
        }
      ]
    },
    {
      "cell_type": "code",
      "source": [
        "class TSProblem(SearchProblem):\n",
        "\n",
        "    def value(self, state):\n",
        "      route = toRoute(state)\n",
        "      value = -1 * distance(route)\n",
        "\n",
        "      #--------------------\n",
        "      # 途中経過の出力\n",
        "      global max_state\n",
        "      global max_value\n",
        "\n",
        "      if max_value < value:\n",
        "        max_state = state\n",
        "        max_value = value\n",
        "        print(f\"max state: {max_state}({max_value:.3f})\")\n",
        "        #--------------------\n",
        "\n",
        "      return value\n",
        "\n",
        "    def generate_random_state(self):\n",
        "      gene = randomGene()\n",
        "      return gene  \n",
        "\n",
        "    def crossover(self, state1, state2):\n",
        "\n",
        "      child = []\n",
        "      index = np.random.randint(0, len(state1))\n",
        "      for i in range(0, index):\n",
        "        child.append(state1[i])\n",
        "\n",
        "      for i in range(index, len(state2)):\n",
        "        child.append(state2[i])\n",
        "\n",
        "      return child\n",
        "\n",
        "    def mutate(self, state):\n",
        "      child = list(copy.deepcopy(state))\n",
        "\n",
        "      index = np.random.randint(0, len(child))\n",
        "      max = len(child) - index\n",
        "      child[index] = np.random.randint(0, max)\n",
        "\n",
        "      return child\n",
        "\n",
        "START = toGene(route)\n",
        "max_state = START\n",
        "max_value = -1000\n",
        "problem = TSProblem(initial_state=START)\n",
        "# result = genetic(problem, population_size=1000, mutation_chance=0.4, iterations_limit=200)\n",
        "result = genetic(problem, population_size=100, mutation_chance=0.4, iterations_limit=100)"
      ],
      "metadata": {
        "colab": {
          "base_uri": "https://localhost:8080/"
        },
        "id": "GoLs5PBOGVSN",
        "outputId": "3e6ba55c-422f-438b-dc17-15fd273b9e0b"
      },
      "execution_count": 19,
      "outputs": [
        {
          "output_type": "stream",
          "name": "stdout",
          "text": [
            "max state: [2, 3, 1, 2, 0, 4, 3, 1, 0, 0](-619.762)\n",
            "max state: [1, 1, 6, 6, 3, 3, 0, 2, 0, 0](-508.255)\n",
            "max state: [2, 4, 1, 3, 1, 4, 0, 0, 1, 0](-425.064)\n",
            "max state: [1, 5, 1, 5, 4, 0, 1, 0, 1, 0](-342.288)\n"
          ]
        }
      ]
    },
    {
      "cell_type": "code",
      "source": [
        "route = toRoute(result.state)\n",
        "print(route)\n",
        "\n",
        "# グラフの初期化\n",
        "G2.clear()\n",
        "\n",
        "# ノードの設定\n",
        "G2.add_nodes_from(nodes)\n",
        "\n",
        "# 経路の設定\n",
        "G2.add_edges_from(route)\n",
        "\n",
        "# 描画\n",
        "nx.draw(G2, pos=pos, with_labels=True)"
      ],
      "metadata": {
        "colab": {
          "base_uri": "https://localhost:8080/",
          "height": 336
        },
        "id": "Sg47sB6pHEYk",
        "outputId": "5dfcb188-dccb-4430-bda0-03c45d140057"
      },
      "execution_count": 20,
      "outputs": [
        {
          "output_type": "stream",
          "name": "stdout",
          "text": [
            "[('H', 'A'), ('A', 'B'), ('B', 'G'), ('G', 'D'), ('D', 'J'), ('J', 'C'), ('C', 'F'), ('F', 'E'), ('E', 'I'), ('I', 'H')]\n"
          ]
        },
        {
          "output_type": "display_data",
          "data": {
            "text/plain": [
              "<Figure size 432x288 with 1 Axes>"
            ],
            "image/png": "[encoded data removed]"
          },
          "metadata": {}
        }
      ]
    },
    {
      "cell_type": "markdown",
      "source": [
        "### Reinforcement learning"
      ],
      "metadata": {
        "id": "LjSz14aywB6H"
      }
    },
    {
      "cell_type": "markdown",
      "source": [
        "## Reference\n",
        "- [Elements of Programming Interviews](https://www.amazon.co.jp/Elements-Programming-Interviews-Python-Insiders-ebook/dp/B09QX36QZQ/ref=sr_1_1?__mk_ja_JP=%E3%82%AB%E3%82%BF%E3%82%AB%E3%83%8A&crid=2HMROKFH0ZT5D&keywords=Elements+of+Programming+Interviews&qid=1649566675&s=digital-text&sprefix=elements+of+programming+interviews%2Cdigital-text%2C161&sr=1-1)\n",
        "- [現場で使える！Python深層強化学習入門 強化学習と深層学習による探索と制御](https://www.amazon.co.jp/%E7%8F%BE%E5%A0%B4%E3%81%A7%E4%BD%BF%E3%81%88%E3%82%8B%EF%BC%81Python%E6%B7%B1%E5%B1%A4%E5%BC%B7%E5%8C%96%E5%AD%A6%E7%BF%92%E5%85%A5%E9%96%80-%E5%BC%B7%E5%8C%96%E5%AD%A6%E7%BF%92%E3%81%A8%E6%B7%B1%E5%B1%A4%E5%AD%A6%E7%BF%92%E3%81%AB%E3%82%88%E3%82%8B%E6%8E%A2%E7%B4%A2%E3%81%A8%E5%88%B6%E5%BE%A1-%E4%BC%8A%E8%97%A4-%E5%A4%9A%E4%B8%80-ebook/dp/B07SVMGBZN/ref=tmm_kin_swatch_0?_encoding=UTF8&qid=&sr=)\n",
        "- [プログラミングコンテストチャレンジブック [第2版]　～問題解決のアルゴリズム活用力とコーディングテクニックを鍛える～](https://www.amazon.co.jp/%E3%83%97%E3%83%AD%E3%82%B0%E3%83%A9%E3%83%9F%E3%83%B3%E3%82%B0%E3%82%B3%E3%83%B3%E3%83%86%E3%82%B9%E3%83%88%E3%83%81%E3%83%A3%E3%83%AC%E3%83%B3%E3%82%B8%E3%83%96%E3%83%83%E3%82%AF-%E7%AC%AC2%E7%89%88-%EF%BD%9E%E5%95%8F%E9%A1%8C%E8%A7%A3%E6%B1%BA%E3%81%AE%E3%82%A2%E3%83%AB%E3%82%B4%E3%83%AA%E3%82%BA%E3%83%A0%E6%B4%BB%E7%94%A8%E5%8A%9B%E3%81%A8%E3%82%B3%E3%83%BC%E3%83%87%E3%82%A3%E3%83%B3%E3%82%B0%E3%83%86%E3%82%AF%E3%83%8B%E3%83%83%E3%82%AF%E3%82%92%E9%8D%9B%E3%81%88%E3%82%8B%EF%BD%9E-%E7%A7%8B%E8%91%89-%E6%8B%93%E5%93%89-ebook/dp/B00CY9256C/ref=sr_1_1?__mk_ja_JP=%E3%82%AB%E3%82%BF%E3%82%AB%E3%83%8A&crid=26ZVZ2CRNQYWL&keywords=%E3%83%97%E3%83%AD%E3%82%B0%E3%83%A9%E3%83%9F%E3%83%B3%E3%82%B0%E3%83%81%E3%83%A3%E3%83%AC%E3%83%B3%E3%82%B8%E3%83%96%E3%83%83%E3%82%AF&qid=1649566610&s=digital-text&sprefix=%E3%83%97%E3%83%AD%E3%82%B0%E3%83%A9%E3%83%9F%E3%83%B3%E3%82%B0%E3%83%81%E3%83%A3%E3%83%AC%E3%83%B3%E3%82%B8%E3%83%96%E3%83%83%E3%82%AF%2Cdigital-text%2C173&sr=1-1)\n",
        "- [遺伝的アルゴリズム・巡回セールスマン問題](https://mukai-lab.info/pages/classes/artificial_intelligence/chapter11/)\n",
        "- [Dijkstra 法による最短経路](https://showa-yojyo.github.io/notebook/python-networkx/practice.html#id5)"
      ],
      "metadata": {
        "id": "R760ABFD05OD"
      }
    }
  ]
}