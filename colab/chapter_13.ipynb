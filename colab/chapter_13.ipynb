{
  "nbformat": 4,
  "nbformat_minor": 0,
  "metadata": {
    "colab": {
      "name": "chapter_13.ipynb",
      "provenance": [],
      "authorship_tag": "ABX9TyNDSwRas2zVTiQIwDE2ItGW",
      "include_colab_link": true
    },
    "kernelspec": {
      "name": "python3",
      "display_name": "Python 3"
    },
    "language_info": {
      "name": "python"
    }
  },
  "cells": [
    {
      "cell_type": "markdown",
      "metadata": {
        "id": "view-in-github",
        "colab_type": "text"
      },
      "source": [
        "<a href=\"https://colab.research.google.com/github/r-matsuzaka/practice-elements-of-programming/blob/main/colab/chapter_13.ipynb\" target=\"_parent\"><img src=\"https://colab.research.google.com/assets/colab-badge.svg\" alt=\"Open In Colab\"/></a>"
      ]
    },
    {
      "cell_type": "markdown",
      "source": [
        "# Chapter13 Dynamic Programming"
      ],
      "metadata": {
        "id": "9XRC1VXW8IpS"
      }
    },
    {
      "cell_type": "code",
      "source": [
        "%%capture\n",
        "!pip install yapf\n",
        "\n",
        "from IPython.core.magic import register_cell_magic\n",
        "from yapf.yapflib.yapf_api import FormatCode\n",
        "\n",
        "\n",
        "@register_cell_magic\n",
        "def fmt(line, cell):\n",
        "   \"\"\"\n",
        "   My formatter cell magic comannd.\n",
        "   Please install yapf before using this magic command.\n",
        "   \"\"\"\n",
        "   print(FormatCode(cell, style_config='pep8')[0])"
      ],
      "metadata": {
        "id": "C3lpbKE4Kph4"
      },
      "execution_count": 1,
      "outputs": []
    },
    {
      "cell_type": "markdown",
      "source": [
        "## Fibonacci number\n",
        "- Recursion\n",
        "- Dynamic programming"
      ],
      "metadata": {
        "id": "3fVnYSPY8e8X"
      }
    },
    {
      "cell_type": "code",
      "source": [
        "def fibonacci_dp(n, cache={}):\n",
        "  if n <= 1:\n",
        "    return n\n",
        "\n",
        "  elif n not in cache:\n",
        "    cache[n] = fibonacci_dp(n-1) + fibonacci_dp(n-2)\n",
        "  return cache[n]\n",
        "\n",
        "fibonacci_dp(10)"
      ],
      "metadata": {
        "colab": {
          "base_uri": "https://localhost:8080/"
        },
        "id": "vgbVSs3lKtO2",
        "outputId": "c6ff344b-1e5c-435c-ab09-a423b38f13ce"
      },
      "execution_count": 2,
      "outputs": [
        {
          "output_type": "execute_result",
          "data": {
            "text/plain": [
              "55"
            ]
          },
          "metadata": {},
          "execution_count": 2
        }
      ]
    },
    {
      "cell_type": "code",
      "source": [
        "def fibonacci(n):\n",
        "  if n <= 1:\n",
        "    return n\n",
        "\n",
        "  f_minus_2, f_minus_1 = 0, 1\n",
        "  for _ in range(1, n):\n",
        "    f = f_minus_2 + f_minus_1\n",
        "    f_minus_2, f_minus_1 = f_minus_1, f\n",
        "  return f_minus_1\n",
        "\n",
        "fibonacci(10)"
      ],
      "metadata": {
        "colab": {
          "base_uri": "https://localhost:8080/"
        },
        "id": "aHDBjHiEPXRL",
        "outputId": "b23afba6-fc36-4308-dfff-0e895dd99505"
      },
      "execution_count": 3,
      "outputs": [
        {
          "output_type": "execute_result",
          "data": {
            "text/plain": [
              "55"
            ]
          },
          "metadata": {},
          "execution_count": 3
        }
      ]
    },
    {
      "cell_type": "code",
      "source": [
        "# %%fmt\n",
        "import time\n",
        "import math\n",
        "import numpy as np\n",
        "import matplotlib.pyplot as plt\n",
        "\n",
        "\n",
        "def time_cost_viz(f, nmax):\n",
        "\n",
        "    time_counts = []\n",
        "\n",
        "    ids = list(range(nmax))\n",
        "    start_time = time.perf_counter()\n",
        "\n",
        "    for id in ids:\n",
        "        start_time = time.perf_counter()\n",
        "        f(id)\n",
        "        end_time = time.perf_counter()\n",
        "        elapsed_time = end_time - start_time\n",
        "        time_counts.append(math.log10(elapsed_time))\n",
        "\n",
        "    x = np.array(ids)\n",
        "    y = np.array(time_counts)\n",
        "    plt.plot(x, y)"
      ],
      "metadata": {
        "id": "RaYnCSwBL_Db"
      },
      "execution_count": 4,
      "outputs": []
    },
    {
      "cell_type": "code",
      "source": [
        "time_cost_viz(fibonacci_dp, 10000)"
      ],
      "metadata": {
        "id": "ONS6n5TOQOYB",
        "colab": {
          "base_uri": "https://localhost:8080/",
          "height": 265
        },
        "outputId": "4482cb3e-6b39-43cd-9a37-4f61a822f3a2"
      },
      "execution_count": 5,
      "outputs": [
        {
          "output_type": "display_data",
          "data": {
            "text/plain": [
              "<Figure size 432x288 with 1 Axes>"
            ],
            "image/png": "[encoded data removed]"
          },
          "metadata": {
            "needs_background": "light"
          }
        }
      ]
    },
    {
      "cell_type": "code",
      "source": [
        "time_cost_viz(fibonacci, 10000)"
      ],
      "metadata": {
        "id": "MSSB6Jc8PxHI",
        "colab": {
          "base_uri": "https://localhost:8080/",
          "height": 265
        },
        "outputId": "66078963-11a1-45ce-bcf6-4efae66a701a"
      },
      "execution_count": 6,
      "outputs": [
        {
          "output_type": "display_data",
          "data": {
            "text/plain": [
              "<Figure size 432x288 with 1 Axes>"
            ],
            "image/png": "[encoded data removed]"
          },
          "metadata": {
            "needs_background": "light"
          }
        }
      ]
    },
    {
      "cell_type": "markdown",
      "source": [
        "## Shortest path problem\n",
        "\n",
        "- Dynamic programming\n",
        "- Reinforcement learning\n",
        "- Genetic algorithm\n",
        "- Dijkstra's algorithm"
      ],
      "metadata": {
        "id": "0N-oNVAD0knH"
      }
    },
    {
      "cell_type": "code",
      "source": [
        "%%capture\n",
        "!pip install networkx "
      ],
      "metadata": {
        "id": "GUgFxhG_0mO2"
      },
      "execution_count": 7,
      "outputs": []
    },
    {
      "cell_type": "code",
      "source": [
        "#%%fmt\n",
        "import math\n",
        "import networkx as nx\n",
        "import matplotlib.pyplot as plt\n",
        "\n",
        "G = nx.DiGraph()\n",
        "\n",
        "pos = {\n",
        "    0: (0, 1),\n",
        "    1: (math.cos(math.radians(18)), math.sin(math.radians(18))),\n",
        "    2: (math.sin(math.radians(36)), -math.cos(math.radians(36))),\n",
        "    3: (-math.sin(math.radians(36)), -math.cos(math.radians(36))),\n",
        "    4: (-math.cos(math.radians(18)), math.sin(math.radians(18))),\n",
        "}\n",
        "\n",
        "# path = (start, end, cost)\n",
        "paths = [(0, 1, 3), (2, 0, 4), (0, 3, 4), (4, 0, 7), (1, 2, 5), (4, 1, 6),\n",
        "         (2, 3, 5), (3, 4, 3)]\n",
        "G.add_weighted_edges_from(paths)\n",
        "\n",
        "nx.draw_networkx_labels(G, pos)\n",
        "\n",
        "# Draw only weight attribute as edge label.\n",
        "edge_labels = {(i, j): w['weight'] for i, j, w in G.edges(data=True)}\n",
        "nx.draw_networkx_edge_labels(G, pos, edge_labels=edge_labels)\n",
        "\n",
        "# Finish drawing.\n",
        "nx.draw(G, pos)\n",
        "\n",
        "# Display with Matplotlib.\n",
        "plt.axis('off')\n",
        "plt.show()"
      ],
      "metadata": {
        "colab": {
          "base_uri": "https://localhost:8080/",
          "height": 248
        },
        "id": "REZCf58P2FPx",
        "outputId": "5eed352e-0e9f-4bd8-b0cf-1707582594f2"
      },
      "execution_count": 8,
      "outputs": [
        {
          "output_type": "display_data",
          "data": {
            "text/plain": [
              "<Figure size 432x288 with 1 Axes>"
            ],
            "image/png": "[encoded data removed]"
          },
          "metadata": {}
        }
      ]
    },
    {
      "cell_type": "markdown",
      "source": [
        "### Dijkstra's algorithm"
      ],
      "metadata": {
        "id": "NkZPa4mEC2o8"
      }
    },
    {
      "cell_type": "code",
      "source": [
        "%%time\n",
        "nx.dijkstra_path(G, 0, 4)"
      ],
      "metadata": {
        "colab": {
          "base_uri": "https://localhost:8080/"
        },
        "id": "9_SUxOpbAa_n",
        "outputId": "52095139-1dd6-4dac-d5b2-211fd03d9079"
      },
      "execution_count": 9,
      "outputs": [
        {
          "output_type": "stream",
          "name": "stdout",
          "text": [
            "CPU times: user 56 µs, sys: 3 µs, total: 59 µs\n",
            "Wall time: 62.9 µs\n"
          ]
        },
        {
          "output_type": "execute_result",
          "data": {
            "text/plain": [
              "[0, 3, 4]"
            ]
          },
          "metadata": {},
          "execution_count": 9
        }
      ]
    },
    {
      "cell_type": "markdown",
      "source": [
        "### Bellman–Ford algorithm"
      ],
      "metadata": {
        "id": "QnMBEl_qC6w2"
      }
    },
    {
      "cell_type": "code",
      "source": [
        "%%capture\n",
        "!pip install bellmanford\n",
        "import bellmanford as bf"
      ],
      "metadata": {
        "id": "6vyisDFsAtNz"
      },
      "execution_count": 10,
      "outputs": []
    },
    {
      "cell_type": "code",
      "source": [
        "%%time\n",
        "length, nodes, negative_cycle = bf.bellman_ford(G, source=0, target=4, weight='weight')\n",
        "nodes"
      ],
      "metadata": {
        "colab": {
          "base_uri": "https://localhost:8080/"
        },
        "id": "R6gYMSMBAy4w",
        "outputId": "fc1afcad-5b65-4ec4-e589-22ce3721d7f4"
      },
      "execution_count": 11,
      "outputs": [
        {
          "output_type": "stream",
          "name": "stdout",
          "text": [
            "CPU times: user 150 µs, sys: 8 µs, total: 158 µs\n",
            "Wall time: 163 µs\n"
          ]
        }
      ]
    },
    {
      "cell_type": "markdown",
      "source": [
        "### Genetic algorithm\n",
        "\n",
        "- Traveling salesman problem\n",
        "- Shortest path problem"
      ],
      "metadata": {
        "id": "SFV4PzgdL_Dp"
      }
    },
    {
      "cell_type": "code",
      "source": [
        "%%capture\n",
        "!pip install simpleai"
      ],
      "metadata": {
        "id": "xyXOL4bOF9jD"
      },
      "execution_count": 12,
      "outputs": []
    },
    {
      "cell_type": "code",
      "source": [
        "import random\n",
        "import copy\n",
        "from simpleai.search import SearchProblem\n",
        "from simpleai.search.local import genetic"
      ],
      "metadata": {
        "id": "CfWdkT-DF7XG"
      },
      "execution_count": 13,
      "outputs": []
    },
    {
      "cell_type": "code",
      "source": [
        "# グラフの初期化\n",
        "G2 = nx.Graph()\n",
        "\n",
        "# ノード\n",
        "nodes = [\"A\", \"B\", \"C\", \"D\", \"E\", \"F\", \"G\", \"H\", \"I\", \"J\"]\n",
        "\n",
        "# ノードの位置\n",
        "pos ={\n",
        "  \"A\": (17, 72),\n",
        "  \"B\": (97, 8),\n",
        "  \"C\": (32, 15),\n",
        "  \"D\": (63, 97),\n",
        "  \"E\": (57, 60),\n",
        "  \"F\": (83, 48),\n",
        "  \"G\": (100, 26),\n",
        "  \"H\": (12, 62),\n",
        "  \"I\": (3, 49),\n",
        "  \"J\": (55, 77)\n",
        "}\n",
        "\n",
        "# 経路\n",
        "route = [(\"A\", \"B\"), (\"B\", \"C\"), (\"C\", \"D\"), (\"D\", \"E\"), (\"E\", \"F\"), (\"F\", \"G\"), (\"G\", \"H\"), (\"H\", \"I\"), (\"I\", \"J\"), (\"J\", \"A\")]\n",
        "G2.add_edges_from(route)\n",
        "\n",
        "# 描画\n",
        "nx.draw(G2, pos=pos, with_labels=True)"
      ],
      "metadata": {
        "id": "mPgVjq0eGE_6",
        "outputId": "07ad9170-4a95-41dc-b496-163691207cee",
        "colab": {
          "base_uri": "https://localhost:8080/",
          "height": 319
        }
      },
      "execution_count": 14,
      "outputs": [
        {
          "output_type": "display_data",
          "data": {
            "text/plain": [
              "<Figure size 432x288 with 1 Axes>"
            ],
            "image/png": "[encoded data removed]"
          },
          "metadata": {}
        }
      ]
    },
    {
      "cell_type": "code",
      "source": [
        "def toGene(route):\n",
        "\n",
        "  destinations = list(copy.deepcopy(G2.nodes))\n",
        "  gene = []\n",
        "\n",
        "  for edge in route:\n",
        "    index = destinations.index(edge[0])\n",
        "    destinations.pop(index)\n",
        "    gene.append(index)\n",
        "\n",
        "  return gene\n",
        "\n",
        "gene = toGene(route)\n",
        "print(gene)"
      ],
      "metadata": {
        "id": "OxAUq7bRGGWR",
        "outputId": "f1956322-7d5f-44f1-86e7-ff9e8019094c",
        "colab": {
          "base_uri": "https://localhost:8080/"
        }
      },
      "execution_count": 15,
      "outputs": [
        {
          "output_type": "stream",
          "name": "stdout",
          "text": [
            "[0, 0, 0, 0, 0, 0, 0, 0, 0, 0]\n"
          ]
        }
      ]
    },
    {
      "cell_type": "code",
      "source": [
        "# 個体（遺伝子）から経路へ\n",
        "def toRoute(gene):\n",
        "  destinations = list(copy.deepcopy(G2.nodes))\n",
        "  nodes = []\n",
        "\n",
        "  for index in gene:\n",
        "    node = destinations[index]\n",
        "    destinations.pop(index)\n",
        "    nodes.append(node)\n",
        "\n",
        "  route = []\n",
        "\n",
        "  for i, node in enumerate(nodes):\n",
        "    edge = ((nodes[i], nodes[(i+1) % len(nodes)]))\n",
        "    route.append(edge)\n",
        "\n",
        "  return route\n",
        "\n",
        "route = toRoute(gene)\n",
        "print(route)"
      ],
      "metadata": {
        "id": "rdpX4edPGJ2L",
        "outputId": "c01d2d11-6e93-44fd-b383-4e568d84d0f4",
        "colab": {
          "base_uri": "https://localhost:8080/"
        }
      },
      "execution_count": 16,
      "outputs": [
        {
          "output_type": "stream",
          "name": "stdout",
          "text": [
            "[('A', 'B'), ('B', 'C'), ('C', 'D'), ('D', 'E'), ('E', 'F'), ('F', 'G'), ('G', 'H'), ('H', 'I'), ('I', 'J'), ('J', 'A')]\n"
          ]
        }
      ]
    },
    {
      "cell_type": "code",
      "source": [
        "# ランダムに個体を生成\n",
        "def randomGene():\n",
        "    destinations = list(copy.deepcopy(G2.nodes))\n",
        "    gene = []\n",
        "\n",
        "    for i in range(len(destinations)):\n",
        "      node = random.choice(destinations)\n",
        "      index = destinations.index(node)\n",
        "      destinations.pop(index)\n",
        "      gene.append(index)\n",
        "\n",
        "    return gene\n",
        "\n",
        "gene = randomGene()\n",
        "print(gene)\n",
        "print(toRoute(gene))"
      ],
      "metadata": {
        "id": "89QqjHfAGOq_",
        "outputId": "9b3c5fdd-a0b3-4ec8-f668-0ba2fc6ee76e",
        "colab": {
          "base_uri": "https://localhost:8080/"
        }
      },
      "execution_count": 17,
      "outputs": [
        {
          "output_type": "stream",
          "name": "stdout",
          "text": [
            "[4, 4, 7, 1, 3, 0, 3, 0, 1, 0]\n",
            "[('E', 'F'), ('F', 'J'), ('J', 'B'), ('B', 'G'), ('G', 'A'), ('A', 'I'), ('I', 'C'), ('C', 'H'), ('H', 'D'), ('D', 'E')]\n"
          ]
        }
      ]
    },
    {
      "cell_type": "code",
      "source": [
        "# 経路距離\n",
        "def distance(route):\n",
        "  d = 0\n",
        "\n",
        "  for edge in route:\n",
        "    pos_head = np.array(pos[edge[0]])\n",
        "    pos_tail = np.array(pos[edge[1]])\n",
        "    d += np.linalg.norm(pos_tail - pos_head)\n",
        "\n",
        "  return d\n",
        "\n",
        "d = distance(route)\n",
        "print(f\"distance={d}\")"
      ],
      "metadata": {
        "id": "Y5G6B9RVGSJl",
        "outputId": "c3f279ba-b436-4a6c-ff49-f1c2f827c429",
        "colab": {
          "base_uri": "https://localhost:8080/"
        }
      },
      "execution_count": 18,
      "outputs": [
        {
          "output_type": "stream",
          "name": "stdout",
          "text": [
            "distance=557.6889363201603\n"
          ]
        }
      ]
    },
    {
      "cell_type": "code",
      "source": [
        "class TSProblem(SearchProblem):\n",
        "\n",
        "    def value(self, state):\n",
        "      route = toRoute(state)\n",
        "      value = -1 * distance(route)\n",
        "\n",
        "      #--------------------\n",
        "      # 途中経過の出力\n",
        "      global max_state\n",
        "      global max_value\n",
        "\n",
        "      if max_value < value:\n",
        "        max_state = state\n",
        "        max_value = value\n",
        "        print(f\"max state: {max_state}({max_value:.3f})\")\n",
        "        #--------------------\n",
        "\n",
        "      return value\n",
        "\n",
        "    def generate_random_state(self):\n",
        "      gene = randomGene()\n",
        "      return gene  \n",
        "\n",
        "    def crossover(self, state1, state2):\n",
        "\n",
        "      child = []\n",
        "      index = np.random.randint(0, len(state1))\n",
        "      for i in range(0, index):\n",
        "        child.append(state1[i])\n",
        "\n",
        "      for i in range(index, len(state2)):\n",
        "        child.append(state2[i])\n",
        "\n",
        "      return child\n",
        "\n",
        "    def mutate(self, state):\n",
        "      child = list(copy.deepcopy(state))\n",
        "\n",
        "      index = np.random.randint(0, len(child))\n",
        "      max = len(child) - index\n",
        "      child[index] = np.random.randint(0, max)\n",
        "\n",
        "      return child\n",
        "\n",
        "START = toGene(route)\n",
        "max_state = START\n",
        "max_value = -1000\n",
        "problem = TSProblem(initial_state=START)\n",
        "result = genetic(problem, population_size=1000, mutation_chance=0.4, iterations_limit=200)"
      ],
      "metadata": {
        "id": "GoLs5PBOGVSN",
        "outputId": "11f9bcec-7fdb-41a8-fe79-2744c5acb697",
        "colab": {
          "base_uri": "https://localhost:8080/"
        }
      },
      "execution_count": 19,
      "outputs": [
        {
          "output_type": "stream",
          "name": "stdout",
          "text": [
            "max state: [0, 2, 2, 0, 3, 2, 1, 2, 1, 0](-582.026)\n",
            "max state: [9, 3, 0, 4, 0, 4, 0, 2, 0, 0](-499.348)\n",
            "max state: [8, 7, 0, 2, 4, 2, 2, 0, 1, 0](-476.835)\n",
            "max state: [3, 5, 6, 5, 0, 2, 1, 0, 0, 0](-469.590)\n",
            "max state: [0, 2, 4, 3, 5, 2, 0, 0, 1, 0](-420.309)\n",
            "max state: [7, 3, 7, 3, 3, 2, 2, 1, 1, 0](-417.684)\n",
            "max state: [6, 5, 1, 1, 4, 0, 2, 0, 0, 0](-402.822)\n",
            "max state: [1, 1, 5, 5, 0, 4, 1, 1, 0, 0](-394.507)\n",
            "max state: [1, 5, 4, 6, 2, 2, 3, 0, 1, 0](-355.056)\n",
            "max state: [9, 0, 6, 6, 1, 4, 0, 2, 1, 0](-327.178)\n",
            "max state: [9, 4, 0, 5, 5, 1, 0, 2, 1, 0](-316.450)\n"
          ]
        }
      ]
    },
    {
      "cell_type": "code",
      "source": [
        "route = toRoute(result.state)\n",
        "print(route)\n",
        "\n",
        "# グラフの初期化\n",
        "G2.clear()\n",
        "\n",
        "# ノードの設定\n",
        "G2.add_nodes_from(nodes)\n",
        "\n",
        "# 経路の設定\n",
        "G2.add_edges_from(route)\n",
        "\n",
        "# 描画\n",
        "nx.draw(G2, pos=pos, with_labels=True)"
      ],
      "metadata": {
        "id": "Sg47sB6pHEYk",
        "outputId": "420212db-66b0-48a3-b88f-d107a6998c81",
        "colab": {
          "base_uri": "https://localhost:8080/",
          "height": 336
        }
      },
      "execution_count": 20,
      "outputs": [
        {
          "output_type": "stream",
          "name": "stdout",
          "text": [
            "[('F', 'G'), ('G', 'B'), ('B', 'D'), ('D', 'E'), ('E', 'C'), ('C', 'I'), ('I', 'H'), ('H', 'A'), ('A', 'J'), ('J', 'F')]\n"
          ]
        },
        {
          "output_type": "display_data",
          "data": {
            "text/plain": [
              "<Figure size 432x288 with 1 Axes>"
            ],
            "image/png": "[encoded data removed]"
          },
          "metadata": {}
        }
      ]
    },
    {
      "cell_type": "markdown",
      "source": [
        "Reference\n",
        "- [Elements of Programming Interviews](https://www.amazon.co.jp/Elements-Programming-Interviews-Python-Insiders-ebook/dp/B09QX36QZQ/ref=sr_1_1?__mk_ja_JP=%E3%82%AB%E3%82%BF%E3%82%AB%E3%83%8A&crid=2HMROKFH0ZT5D&keywords=Elements+of+Programming+Interviews&qid=1649566675&s=digital-text&sprefix=elements+of+programming+interviews%2Cdigital-text%2C161&sr=1-1)\n",
        "- [現場で使える！Python深層強化学習入門 強化学習と深層学習による探索と制御](https://www.amazon.co.jp/%E7%8F%BE%E5%A0%B4%E3%81%A7%E4%BD%BF%E3%81%88%E3%82%8B%EF%BC%81Python%E6%B7%B1%E5%B1%A4%E5%BC%B7%E5%8C%96%E5%AD%A6%E7%BF%92%E5%85%A5%E9%96%80-%E5%BC%B7%E5%8C%96%E5%AD%A6%E7%BF%92%E3%81%A8%E6%B7%B1%E5%B1%A4%E5%AD%A6%E7%BF%92%E3%81%AB%E3%82%88%E3%82%8B%E6%8E%A2%E7%B4%A2%E3%81%A8%E5%88%B6%E5%BE%A1-%E4%BC%8A%E8%97%A4-%E5%A4%9A%E4%B8%80-ebook/dp/B07SVMGBZN/ref=tmm_kin_swatch_0?_encoding=UTF8&qid=&sr=)\n",
        "- [プログラミングコンテストチャレンジブック [第2版]　～問題解決のアルゴリズム活用力とコーディングテクニックを鍛える～](https://www.amazon.co.jp/%E3%83%97%E3%83%AD%E3%82%B0%E3%83%A9%E3%83%9F%E3%83%B3%E3%82%B0%E3%82%B3%E3%83%B3%E3%83%86%E3%82%B9%E3%83%88%E3%83%81%E3%83%A3%E3%83%AC%E3%83%B3%E3%82%B8%E3%83%96%E3%83%83%E3%82%AF-%E7%AC%AC2%E7%89%88-%EF%BD%9E%E5%95%8F%E9%A1%8C%E8%A7%A3%E6%B1%BA%E3%81%AE%E3%82%A2%E3%83%AB%E3%82%B4%E3%83%AA%E3%82%BA%E3%83%A0%E6%B4%BB%E7%94%A8%E5%8A%9B%E3%81%A8%E3%82%B3%E3%83%BC%E3%83%87%E3%82%A3%E3%83%B3%E3%82%B0%E3%83%86%E3%82%AF%E3%83%8B%E3%83%83%E3%82%AF%E3%82%92%E9%8D%9B%E3%81%88%E3%82%8B%EF%BD%9E-%E7%A7%8B%E8%91%89-%E6%8B%93%E5%93%89-ebook/dp/B00CY9256C/ref=sr_1_1?__mk_ja_JP=%E3%82%AB%E3%82%BF%E3%82%AB%E3%83%8A&crid=26ZVZ2CRNQYWL&keywords=%E3%83%97%E3%83%AD%E3%82%B0%E3%83%A9%E3%83%9F%E3%83%B3%E3%82%B0%E3%83%81%E3%83%A3%E3%83%AC%E3%83%B3%E3%82%B8%E3%83%96%E3%83%83%E3%82%AF&qid=1649566610&s=digital-text&sprefix=%E3%83%97%E3%83%AD%E3%82%B0%E3%83%A9%E3%83%9F%E3%83%B3%E3%82%B0%E3%83%81%E3%83%A3%E3%83%AC%E3%83%B3%E3%82%B8%E3%83%96%E3%83%83%E3%82%AF%2Cdigital-text%2C173&sr=1-1)\n",
        "- [遺伝的アルゴリズム・巡回セールスマン問題](https://mukai-lab.info/pages/classes/artificial_intelligence/chapter11/)\n",
        "- [Dijkstra 法による最短経路](https://showa-yojyo.github.io/notebook/python-networkx/practice.html#id5)\n",
        "- [Bellman–Ford algorithm](https://github.com/nelsonuhan/bellmanford)"
      ],
      "metadata": {
        "id": "R760ABFD05OD"
      }
    }
  ]
}