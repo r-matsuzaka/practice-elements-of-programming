{
  "nbformat": 4,
  "nbformat_minor": 0,
  "metadata": {
    "colab": {
      "name": "chapter_19.ipynb",
      "provenance": [],
      "authorship_tag": "ABX9TyPBkCY8bMeFrk7bNbbRKHKS",
      "include_colab_link": true
    },
    "kernelspec": {
      "name": "python3",
      "display_name": "Python 3"
    },
    "language_info": {
      "name": "python"
    }
  },
  "cells": [
    {
      "cell_type": "markdown",
      "metadata": {
        "id": "view-in-github",
        "colab_type": "text"
      },
      "source": [
        "<a href=\"https://colab.research.google.com/github/r-matsuzaka/practice-elements-of-programming/blob/main/colab/chapter_19.ipynb\" target=\"_parent\"><img src=\"https://colab.research.google.com/assets/colab-badge.svg\" alt=\"Open In Colab\"/></a>"
      ]
    },
    {
      "cell_type": "markdown",
      "source": [
        "# Chapter19 Object-Oriented Design"
      ],
      "metadata": {
        "id": "xTc6-3R_2Umz"
      }
    },
    {
      "cell_type": "code",
      "source": [
        "%%capture\n",
        "!pip install yapf"
      ],
      "metadata": {
        "id": "-WP3WH2R2cSY"
      },
      "execution_count": 1,
      "outputs": []
    },
    {
      "cell_type": "code",
      "source": [
        "from IPython.core.magic import register_cell_magic\n",
        "from yapf.yapflib.yapf_api import FormatCode\n",
        "\n",
        "\n",
        "@register_cell_magic\n",
        "def fmt(line, cell):\n",
        "   \"\"\"\n",
        "   My formatter cell magic comannd.\n",
        "   Please install yapf before using this magic command.\n",
        "   \"\"\"\n",
        "   print(FormatCode(cell, style_config='pep8')[0])"
      ],
      "metadata": {
        "id": "fs6ikiax3Zt6"
      },
      "execution_count": 2,
      "outputs": []
    },
    {
      "cell_type": "code",
      "source": [
        "# %%fmt\n",
        "from abc import ABC, abstractmethod\n",
        "\n",
        "\n",
        "class AbstractButton(ABC):\n",
        "\n",
        "    @abstractmethod\n",
        "    def get_html(self):\n",
        "        pass\n",
        "\n",
        "\n",
        "class Image(AbstractButton):\n",
        "    html = \"<img></img>\"\n",
        "\n",
        "    def get_html(self):\n",
        "        return self.html\n",
        "\n",
        "\n",
        "class Input(AbstractButton):\n",
        "    html = \"<input></input>\"\n",
        "\n",
        "    def get_html(self):\n",
        "        return self.html\n",
        "\n",
        "\n",
        "class Flash(AbstractButton):\n",
        "    html = \"<obj></obj>\"\n",
        "\n",
        "    def get_html(self):\n",
        "        return self.html\n",
        "\n",
        "\n",
        "class ButtonFactory():\n",
        "\n",
        "    def create_button(self, typ):\n",
        "        targetclass = typ.capitalize()\n",
        "        print(targetclass)\n",
        "        return globals()[targetclass]()\n",
        "\n",
        "\n",
        "button_obj = ButtonFactory()\n",
        "button = ['image', 'input', 'flash']\n",
        "\n",
        "for b in button:\n",
        "    print(button_obj.create_button(b).get_html())"
      ],
      "metadata": {
        "colab": {
          "base_uri": "https://localhost:8080/"
        },
        "id": "NPcZt8qGTJkW",
        "outputId": "4d7143f3-88b7-4a2e-9377-6958763eaf7b"
      },
      "execution_count": 3,
      "outputs": [
        {
          "output_type": "stream",
          "name": "stdout",
          "text": [
            "Image\n",
            "<img></img>\n",
            "Input\n",
            "<input></input>\n",
            "Flash\n",
            "<obj></obj>\n"
          ]
        }
      ]
    },
    {
      "cell_type": "markdown",
      "source": [
        "Reference\n",
        "\n",
        "- [Python Design Patterns - Factory](https://www.tutorialspoint.com/python_design_patterns/python_design_patterns_factory.htm)"
      ],
      "metadata": {
        "id": "k0RZQeOZCgjo"
      }
    }
  ]
}