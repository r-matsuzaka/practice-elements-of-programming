{
  "nbformat": 4,
  "nbformat_minor": 0,
  "metadata": {
    "colab": {
      "name": "chapter-1.ipynb",
      "provenance": [],
      "authorship_tag": "ABX9TyMT41s4UqNGR6palSLXlyki",
      "include_colab_link": true
    },
    "kernelspec": {
      "name": "python3",
      "display_name": "Python 3"
    },
    "language_info": {
      "name": "python"
    }
  },
  "cells": [
    {
      "cell_type": "markdown",
      "metadata": {
        "id": "view-in-github",
        "colab_type": "text"
      },
      "source": [
        "<a href=\"https://colab.research.google.com/github/r-matsuzaka/elements-of-programming/blob/main/colab/chapter_1.ipynb\" target=\"_parent\"><img src=\"https://colab.research.google.com/assets/colab-badge.svg\" alt=\"Open In Colab\"/></a>"
      ]
    },
    {
      "cell_type": "markdown",
      "source": [
        "# Chapter1 Primitive Types"
      ],
      "metadata": {
        "id": "kSuhLvxF3Qfl"
      }
    },
    {
      "cell_type": "code",
      "execution_count": 1,
      "metadata": {
        "id": "u2eGTQt9yWyz"
      },
      "outputs": [],
      "source": [
        "def count_bits(x:int):\n",
        "  \"\"\" count the number of 1 in binary\n",
        "\n",
        "  Example:\n",
        "    12 is (1100)2 in binary.\n",
        "    The function returns 2.\n",
        "\n",
        "  Args:\n",
        "    x (int): number\n",
        "  \n",
        "  Return:\n",
        "    int: the number of 1 in binary\n",
        "  \"\"\"\n",
        "  num_bits = 0\n",
        "  while x:\n",
        "    # count up if last binary is 1\n",
        "    num_bits += x & 1\n",
        "    # right shift\n",
        "    x >>= 1\n",
        "  return num_bits"
      ]
    },
    {
      "cell_type": "code",
      "source": [
        "count_bits(1)"
      ],
      "metadata": {
        "colab": {
          "base_uri": "https://localhost:8080/"
        },
        "id": "zGKz9goTyt_Q",
        "outputId": "1b6b3b35-bab8-4020-fe95-dd3fb3f9e880"
      },
      "execution_count": 2,
      "outputs": [
        {
          "output_type": "execute_result",
          "data": {
            "text/plain": [
              "1"
            ]
          },
          "metadata": {},
          "execution_count": 2
        }
      ]
    },
    {
      "cell_type": "code",
      "source": [
        "count_bits(0B110110)"
      ],
      "metadata": {
        "colab": {
          "base_uri": "https://localhost:8080/"
        },
        "id": "5qqDoRUCyyNb",
        "outputId": "b3535407-3228-49ab-b35c-7e25c09309be"
      },
      "execution_count": 3,
      "outputs": [
        {
          "output_type": "execute_result",
          "data": {
            "text/plain": [
              "4"
            ]
          },
          "metadata": {},
          "execution_count": 3
        }
      ]
    },
    {
      "cell_type": "markdown",
      "source": [
        "## Point\n",
        "- Bitwise Operators"
      ],
      "metadata": {
        "id": "us7G6saI3IDm"
      }
    },
    {
      "cell_type": "markdown",
      "source": [
        "Left shit"
      ],
      "metadata": {
        "id": "4X3BWmmo3i_6"
      }
    },
    {
      "cell_type": "code",
      "source": [
        "0b10"
      ],
      "metadata": {
        "colab": {
          "base_uri": "https://localhost:8080/"
        },
        "id": "8XtsqN8r3iT7",
        "outputId": "cfbf6747-ab29-4263-f0ad-7d242dec5403"
      },
      "execution_count": 4,
      "outputs": [
        {
          "output_type": "execute_result",
          "data": {
            "text/plain": [
              "2"
            ]
          },
          "metadata": {},
          "execution_count": 4
        }
      ]
    },
    {
      "cell_type": "code",
      "source": [
        "0b10 << 1"
      ],
      "metadata": {
        "colab": {
          "base_uri": "https://localhost:8080/"
        },
        "id": "D4H0gQqj3vu_",
        "outputId": "bc597c7c-cb8a-4969-96a1-99789e0783a4"
      },
      "execution_count": 5,
      "outputs": [
        {
          "output_type": "execute_result",
          "data": {
            "text/plain": [
              "4"
            ]
          },
          "metadata": {},
          "execution_count": 5
        }
      ]
    },
    {
      "cell_type": "markdown",
      "source": [
        "Right shift"
      ],
      "metadata": {
        "id": "pHOtm3ob3-W9"
      }
    },
    {
      "cell_type": "code",
      "source": [
        "0b10 >> 1"
      ],
      "metadata": {
        "colab": {
          "base_uri": "https://localhost:8080/"
        },
        "id": "sOcmpWYM4Co6",
        "outputId": "1fa4255a-6c3e-415d-f819-0a68215f20a1"
      },
      "execution_count": 6,
      "outputs": [
        {
          "output_type": "execute_result",
          "data": {
            "text/plain": [
              "1"
            ]
          },
          "metadata": {},
          "execution_count": 6
        }
      ]
    },
    {
      "cell_type": "markdown",
      "source": [
        "Bitwise AND"
      ],
      "metadata": {
        "id": "4B-wuHq45UZ-"
      }
    },
    {
      "cell_type": "code",
      "source": [
        "0b10 & 0b00"
      ],
      "metadata": {
        "colab": {
          "base_uri": "https://localhost:8080/"
        },
        "id": "tKBAwn1T4Zty",
        "outputId": "acdf1947-c301-47b8-d081-e5ae24d3a631"
      },
      "execution_count": 7,
      "outputs": [
        {
          "output_type": "execute_result",
          "data": {
            "text/plain": [
              "0"
            ]
          },
          "metadata": {},
          "execution_count": 7
        }
      ]
    },
    {
      "cell_type": "code",
      "source": [
        "0b10 & 0b01"
      ],
      "metadata": {
        "colab": {
          "base_uri": "https://localhost:8080/"
        },
        "id": "krTiPwXJ5vnC",
        "outputId": "66c7655d-7a06-46d4-da45-210b2ae803cd"
      },
      "execution_count": 8,
      "outputs": [
        {
          "output_type": "execute_result",
          "data": {
            "text/plain": [
              "0"
            ]
          },
          "metadata": {},
          "execution_count": 8
        }
      ]
    },
    {
      "cell_type": "code",
      "source": [
        "0b10 & 1"
      ],
      "metadata": {
        "colab": {
          "base_uri": "https://localhost:8080/"
        },
        "id": "aHoY0fgY6BTe",
        "outputId": "a391918d-d25e-49bb-ad68-000d4f0649b4"
      },
      "execution_count": 9,
      "outputs": [
        {
          "output_type": "execute_result",
          "data": {
            "text/plain": [
              "0"
            ]
          },
          "metadata": {},
          "execution_count": 9
        }
      ]
    },
    {
      "cell_type": "code",
      "source": [
        "2 & 1"
      ],
      "metadata": {
        "colab": {
          "base_uri": "https://localhost:8080/"
        },
        "id": "BCGU5DMU6D1P",
        "outputId": "49d4cdb5-53fb-40d5-de53-7857d516cbb9"
      },
      "execution_count": 10,
      "outputs": [
        {
          "output_type": "execute_result",
          "data": {
            "text/plain": [
              "0"
            ]
          },
          "metadata": {},
          "execution_count": 10
        }
      ]
    },
    {
      "cell_type": "markdown",
      "source": [
        "Reference:  \n",
        "- [Real Python Bitwise Operators in Python](https://realpython.com/python-bitwise-operators/)"
      ],
      "metadata": {
        "id": "Xrj02fdu4gbr"
      }
    }
  ]
}